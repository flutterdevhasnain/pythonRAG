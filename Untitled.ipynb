{
 "cells": [
  {
   "cell_type": "code",
   "execution_count": 1,
   "id": "58aa796f-3bcf-47b9-8a03-ea20ee5fa5a1",
   "metadata": {},
   "outputs": [
    {
     "data": {
      "text/plain": [
       "'/Users/algoacepc/jupyter-env'"
      ]
     },
     "execution_count": 1,
     "metadata": {},
     "output_type": "execute_result"
    }
   ],
   "source": [
    "import os\n",
    "os.getcwd()"
   ]
  },
  {
   "cell_type": "code",
   "execution_count": 2,
   "id": "751ddd81-6d3e-48d8-86a3-db6b244155f5",
   "metadata": {
    "scrolled": true
   },
   "outputs": [
    {
     "name": "stdout",
     "output_type": "stream",
     "text": [
      "Requirement already satisfied: langchain_community in ./venv/lib/python3.13/site-packages (0.3.27)\n",
      "Requirement already satisfied: langchain-core<1.0.0,>=0.3.66 in ./venv/lib/python3.13/site-packages (from langchain_community) (0.3.74)\n",
      "Requirement already satisfied: langchain<1.0.0,>=0.3.26 in ./venv/lib/python3.13/site-packages (from langchain_community) (0.3.27)\n",
      "Requirement already satisfied: SQLAlchemy<3,>=1.4 in ./venv/lib/python3.13/site-packages (from langchain_community) (2.0.43)\n",
      "Requirement already satisfied: requests<3,>=2 in ./venv/lib/python3.13/site-packages (from langchain_community) (2.32.5)\n",
      "Requirement already satisfied: PyYAML>=5.3 in ./venv/lib/python3.13/site-packages (from langchain_community) (6.0.2)\n",
      "Requirement already satisfied: aiohttp<4.0.0,>=3.8.3 in ./venv/lib/python3.13/site-packages (from langchain_community) (3.12.15)\n",
      "Requirement already satisfied: tenacity!=8.4.0,<10,>=8.1.0 in ./venv/lib/python3.13/site-packages (from langchain_community) (9.1.2)\n",
      "Requirement already satisfied: dataclasses-json<0.7,>=0.5.7 in ./venv/lib/python3.13/site-packages (from langchain_community) (0.6.7)\n",
      "Requirement already satisfied: pydantic-settings<3.0.0,>=2.4.0 in ./venv/lib/python3.13/site-packages (from langchain_community) (2.10.1)\n",
      "Requirement already satisfied: langsmith>=0.1.125 in ./venv/lib/python3.13/site-packages (from langchain_community) (0.4.15)\n",
      "Requirement already satisfied: httpx-sse<1.0.0,>=0.4.0 in ./venv/lib/python3.13/site-packages (from langchain_community) (0.4.1)\n",
      "Requirement already satisfied: numpy>=2.1.0 in ./venv/lib/python3.13/site-packages (from langchain_community) (2.3.2)\n",
      "Requirement already satisfied: aiohappyeyeballs>=2.5.0 in ./venv/lib/python3.13/site-packages (from aiohttp<4.0.0,>=3.8.3->langchain_community) (2.6.1)\n",
      "Requirement already satisfied: aiosignal>=1.4.0 in ./venv/lib/python3.13/site-packages (from aiohttp<4.0.0,>=3.8.3->langchain_community) (1.4.0)\n",
      "Requirement already satisfied: attrs>=17.3.0 in ./venv/lib/python3.13/site-packages (from aiohttp<4.0.0,>=3.8.3->langchain_community) (25.3.0)\n",
      "Requirement already satisfied: frozenlist>=1.1.1 in ./venv/lib/python3.13/site-packages (from aiohttp<4.0.0,>=3.8.3->langchain_community) (1.7.0)\n",
      "Requirement already satisfied: multidict<7.0,>=4.5 in ./venv/lib/python3.13/site-packages (from aiohttp<4.0.0,>=3.8.3->langchain_community) (6.6.4)\n",
      "Requirement already satisfied: propcache>=0.2.0 in ./venv/lib/python3.13/site-packages (from aiohttp<4.0.0,>=3.8.3->langchain_community) (0.3.2)\n",
      "Requirement already satisfied: yarl<2.0,>=1.17.0 in ./venv/lib/python3.13/site-packages (from aiohttp<4.0.0,>=3.8.3->langchain_community) (1.20.1)\n",
      "Requirement already satisfied: marshmallow<4.0.0,>=3.18.0 in ./venv/lib/python3.13/site-packages (from dataclasses-json<0.7,>=0.5.7->langchain_community) (3.26.1)\n",
      "Requirement already satisfied: typing-inspect<1,>=0.4.0 in ./venv/lib/python3.13/site-packages (from dataclasses-json<0.7,>=0.5.7->langchain_community) (0.9.0)\n",
      "Requirement already satisfied: langchain-text-splitters<1.0.0,>=0.3.9 in ./venv/lib/python3.13/site-packages (from langchain<1.0.0,>=0.3.26->langchain_community) (0.3.9)\n",
      "Requirement already satisfied: pydantic<3.0.0,>=2.7.4 in ./venv/lib/python3.13/site-packages (from langchain<1.0.0,>=0.3.26->langchain_community) (2.11.7)\n",
      "Requirement already satisfied: jsonpatch<2.0,>=1.33 in ./venv/lib/python3.13/site-packages (from langchain-core<1.0.0,>=0.3.66->langchain_community) (1.33)\n",
      "Requirement already satisfied: typing-extensions>=4.7 in ./venv/lib/python3.13/site-packages (from langchain-core<1.0.0,>=0.3.66->langchain_community) (4.14.1)\n",
      "Requirement already satisfied: packaging>=23.2 in ./venv/lib/python3.13/site-packages (from langchain-core<1.0.0,>=0.3.66->langchain_community) (25.0)\n",
      "Requirement already satisfied: jsonpointer>=1.9 in ./venv/lib/python3.13/site-packages (from jsonpatch<2.0,>=1.33->langchain-core<1.0.0,>=0.3.66->langchain_community) (3.0.0)\n",
      "Requirement already satisfied: annotated-types>=0.6.0 in ./venv/lib/python3.13/site-packages (from pydantic<3.0.0,>=2.7.4->langchain<1.0.0,>=0.3.26->langchain_community) (0.7.0)\n",
      "Requirement already satisfied: pydantic-core==2.33.2 in ./venv/lib/python3.13/site-packages (from pydantic<3.0.0,>=2.7.4->langchain<1.0.0,>=0.3.26->langchain_community) (2.33.2)\n",
      "Requirement already satisfied: typing-inspection>=0.4.0 in ./venv/lib/python3.13/site-packages (from pydantic<3.0.0,>=2.7.4->langchain<1.0.0,>=0.3.26->langchain_community) (0.4.1)\n",
      "Requirement already satisfied: python-dotenv>=0.21.0 in ./venv/lib/python3.13/site-packages (from pydantic-settings<3.0.0,>=2.4.0->langchain_community) (1.1.1)\n",
      "Requirement already satisfied: charset_normalizer<4,>=2 in ./venv/lib/python3.13/site-packages (from requests<3,>=2->langchain_community) (3.4.3)\n",
      "Requirement already satisfied: idna<4,>=2.5 in ./venv/lib/python3.13/site-packages (from requests<3,>=2->langchain_community) (3.10)\n",
      "Requirement already satisfied: urllib3<3,>=1.21.1 in ./venv/lib/python3.13/site-packages (from requests<3,>=2->langchain_community) (2.5.0)\n",
      "Requirement already satisfied: certifi>=2017.4.17 in ./venv/lib/python3.13/site-packages (from requests<3,>=2->langchain_community) (2025.8.3)\n",
      "Requirement already satisfied: mypy-extensions>=0.3.0 in ./venv/lib/python3.13/site-packages (from typing-inspect<1,>=0.4.0->dataclasses-json<0.7,>=0.5.7->langchain_community) (1.1.0)\n",
      "Requirement already satisfied: httpx<1,>=0.23.0 in ./venv/lib/python3.13/site-packages (from langsmith>=0.1.125->langchain_community) (0.28.1)\n",
      "Requirement already satisfied: orjson>=3.9.14 in ./venv/lib/python3.13/site-packages (from langsmith>=0.1.125->langchain_community) (3.11.2)\n",
      "Requirement already satisfied: requests-toolbelt>=1.0.0 in ./venv/lib/python3.13/site-packages (from langsmith>=0.1.125->langchain_community) (1.0.0)\n",
      "Requirement already satisfied: zstandard>=0.23.0 in ./venv/lib/python3.13/site-packages (from langsmith>=0.1.125->langchain_community) (0.24.0)\n",
      "Requirement already satisfied: anyio in ./venv/lib/python3.13/site-packages (from httpx<1,>=0.23.0->langsmith>=0.1.125->langchain_community) (4.10.0)\n",
      "Requirement already satisfied: httpcore==1.* in ./venv/lib/python3.13/site-packages (from httpx<1,>=0.23.0->langsmith>=0.1.125->langchain_community) (1.0.9)\n",
      "Requirement already satisfied: h11>=0.16 in ./venv/lib/python3.13/site-packages (from httpcore==1.*->httpx<1,>=0.23.0->langsmith>=0.1.125->langchain_community) (0.16.0)\n",
      "Requirement already satisfied: sniffio>=1.1 in ./venv/lib/python3.13/site-packages (from anyio->httpx<1,>=0.23.0->langsmith>=0.1.125->langchain_community) (1.3.1)\n"
     ]
    }
   ],
   "source": [
    "!pip install langchain_community\n",
    "\n"
   ]
  },
  {
   "cell_type": "code",
   "execution_count": 3,
   "id": "084b3b7b-6e6f-4ae1-b2e5-df4ab48cc749",
   "metadata": {
    "scrolled": true
   },
   "outputs": [],
   "source": [
    "from langchain_community.document_loaders import TextLoader"
   ]
  },
  {
   "cell_type": "code",
   "execution_count": 4,
   "id": "ee99665e-9e74-4442-9621-d78f5fbd20b8",
   "metadata": {},
   "outputs": [],
   "source": [
    "\n",
    "loader = TextLoader('nvda_news_1.txt')\n",
    "newsData = loader.load()\n",
    " \n",
    "\n"
   ]
  },
  {
   "cell_type": "code",
   "execution_count": 5,
   "id": "801538f6-69b8-4237-bcf9-2062997442c3",
   "metadata": {
    "scrolled": true
   },
   "outputs": [
    {
     "name": "stdout",
     "output_type": "stream",
     "text": [
      "page_content='The stock of NVIDIA Corp (NASDAQ:NVDA) experienced a daily loss of -3.56% and a 3-month gain of 32.35%. With an Earnings Per Share (EPS) (EPS) of $1.92, the question arises: is the stock significantly overvalued? This article aims to provide a detailed valuation analysis of NVIDIA, offering insights into its financial strength, profitability, growth, and more. We invite you to delve into this comprehensive analysis.\n",
      "\n",
      "Company Overview\n",
      "Warning! GuruFocus has detected 10 Warning Signs with NVDA. Click here to check it out.\n",
      "\n",
      "NVDA 30-Year Financial Data\n",
      "\n",
      "The intrinsic value of NVDA\n",
      "\n",
      "\n",
      "NVIDIA Corp (NASDAQ:NVDA) is a leading designer of discrete graphics processing units that enhance the experience on computing platforms. The firm's chips are widely used in various end markets, including PC gaming and data centers. In recent years, NVIDIA has broadened its focus from traditional PC graphics applications such as gaming to more complex and favorable opportunities, including artificial intelligence and autonomous driving, leveraging the high-performance capabilities of its products.\n",
      "\n",
      "Currently, NVIDIA's stock price stands at $418.01, significantly higher than the GF Value of $310.28, indicating the stock might be overvalued. With a market cap of $1 trillion, the valuation seems steep. The following analysis aims to delve deeper into the company's value.\n",
      "\n",
      "Is NVIDIA's Stock Significantly Overvalued? A Comprehensive Valuation Analysis\n",
      "Is NVIDIA's Stock Significantly Overvalued? A Comprehensive Valuation Analysis\n",
      "Understanding the GF Value\n",
      "The GF Value is a unique measure of the intrinsic value of a stock, calculated based on historical trading multiples, a GuruFocus adjustment factor, and future business performance estimates. If the stock price is significantly above the GF Value Line, it is overvalued, and its future return is likely to be poor. Conversely, if it is significantly below the GF Value Line, its future return will likely be higher.\n",
      "\n",
      "According to GuruFocus Value calculation, NVIDIA (NASDAQ:NVDA) appears to be significantly overvalued. The stock's current price of $418.01 per share and the market cap of $1 trillion further strengthen this assumption.\n",
      "\n",
      "Given that NVIDIA is significantly overvalued, the long-term return of its stock is likely to be much lower than its future business growth.\n",
      "\n",
      "Is NVIDIA's Stock Significantly Overvalued? A Comprehensive Valuation Analysis\n",
      "Is NVIDIA's Stock Significantly Overvalued? A Comprehensive Valuation Analysis\n",
      "Link: These companies may deliver higher future returns at reduced risk.\n",
      "\n",
      "Financial Strength of NVIDIA\n",
      "Examining the financial strength of a company is crucial before investing in its stock. Companies with poor financial strength pose a higher risk of permanent loss. NVIDIA's cash-to-debt ratio of 1.27 is worse than 58.04% of companies in the Semiconductors industry. However, NVIDIA's overall financial strength is 8 out of 10, indicating a strong financial position.\n",
      "\n",
      "Is NVIDIA's Stock Significantly Overvalued? A Comprehensive Valuation Analysis\n",
      "Is NVIDIA's Stock Significantly Overvalued? A Comprehensive Valuation Analysis\n",
      "Profitability and Growth\n",
      "Consistent profitability over the long term reduces the risk for investors. NVIDIA, with its profitability ranking of 10 out of 10, has been profitable for the past 10 years. The company's operating margin of 17.37% ranks better than 76.5% of companies in the Semiconductors industry.\n",
      "\n",
      "However, growth is a crucial factor in a company's valuation. NVIDIA's growth ranks worse than 52.99% of companies in the Semiconductors industry, with its 3-year average revenue growth rate better than 87.88% of companies in the industry.\n",
      "\n",
      "ROIC vs WACC\n",
      "Comparing a company's return on invested capital (ROIC) to its weighted average cost of capital (WACC) is an effective way to evaluate its profitability. Over the past 12 months, NVIDIA's ROIC was 20.32 while its WACC was 16.74, suggesting that the company is creating value for its shareholders.\n",
      "\n",
      "Is NVIDIA's Stock Significantly Overvalued? A Comprehensive Valuation Analysis\n",
      "Is NVIDIA's Stock Significantly Overvalued? A Comprehensive Valuation Analysis\n",
      "Conclusion\n",
      "In conclusion, NVIDIA (NASDAQ:NVDA) appears to be significantly overvalued. Despite its strong financial condition and profitability, its growth ranks lower than 52.99% of companies in the Semiconductors industry. To learn more about NVIDIA stock, you can check out its 30-Year Financials here.\n",
      "\n",
      "To find out the high quality companies that may deliver above-average returns, please check out GuruFocus High Quality Low Capex Screener.\n",
      "\n",
      "This article first appeared on GuruFocus.' metadata={'source': 'nvda_news_1.txt'}\n"
     ]
    }
   ],
   "source": [
    "print(newsData[0])"
   ]
  },
  {
   "cell_type": "code",
   "execution_count": 6,
   "id": "d803d272-6ced-4dd8-91c5-7b0a28e47c87",
   "metadata": {},
   "outputs": [],
   "source": [
    "from langchain_community.document_loaders.csv_loader import CSVLoader"
   ]
  },
  {
   "cell_type": "code",
   "execution_count": 7,
   "id": "47ab41db-f52f-4434-ac3d-cc8351d91ab5",
   "metadata": {},
   "outputs": [
    {
     "data": {
      "text/plain": [
       "9"
      ]
     },
     "execution_count": 7,
     "metadata": {},
     "output_type": "execute_result"
    }
   ],
   "source": [
    "loader = CSVLoader(\"movies.csv\")\n",
    "moviesData=loader.load()\n",
    "len(moviesData)"
   ]
  },
  {
   "cell_type": "code",
   "execution_count": 8,
   "id": "1970fe02-10aa-4803-8b32-5ccd9f1e395d",
   "metadata": {
    "scrolled": true
   },
   "outputs": [
    {
     "name": "stdout",
     "output_type": "stream",
     "text": [
      "page_content='movie_id: 101\n",
      "title: K.G.F: Chapter 2\n",
      "industry: Bollywood\n",
      "release_year: 2022\n",
      "imdb_rating: 8.4\n",
      "studio: Hombale Films\n",
      "language_id: 3\n",
      "budget: 1\n",
      "revenue: 12.5\n",
      "unit: Billions\n",
      "currency: INR' metadata={'source': 'movies.csv', 'row': 0}\n"
     ]
    }
   ],
   "source": [
    "print(moviesData[0])"
   ]
  },
  {
   "cell_type": "code",
   "execution_count": 9,
   "id": "b89b4872-e4a0-4201-bed5-7acc91f26210",
   "metadata": {
    "scrolled": true
   },
   "outputs": [
    {
     "name": "stdout",
     "output_type": "stream",
     "text": [
      "Requirement already satisfied: unstructured in ./venv/lib/python3.13/site-packages (0.18.13)\n",
      "Requirement already satisfied: libmagic in ./venv/lib/python3.13/site-packages (1.0)\n",
      "Requirement already satisfied: python-magic in ./venv/lib/python3.13/site-packages (0.4.27)\n",
      "Requirement already satisfied: charset-normalizer in ./venv/lib/python3.13/site-packages (from unstructured) (3.4.3)\n",
      "Requirement already satisfied: filetype in ./venv/lib/python3.13/site-packages (from unstructured) (1.2.0)\n",
      "Requirement already satisfied: lxml in ./venv/lib/python3.13/site-packages (from unstructured) (6.0.0)\n",
      "Requirement already satisfied: nltk in ./venv/lib/python3.13/site-packages (from unstructured) (3.9.1)\n",
      "Requirement already satisfied: requests in ./venv/lib/python3.13/site-packages (from unstructured) (2.32.5)\n",
      "Requirement already satisfied: beautifulsoup4 in ./venv/lib/python3.13/site-packages (from unstructured) (4.13.4)\n",
      "Requirement already satisfied: emoji in ./venv/lib/python3.13/site-packages (from unstructured) (2.14.1)\n",
      "Requirement already satisfied: dataclasses-json in ./venv/lib/python3.13/site-packages (from unstructured) (0.6.7)\n",
      "Requirement already satisfied: python-iso639 in ./venv/lib/python3.13/site-packages (from unstructured) (2025.2.18)\n",
      "Requirement already satisfied: langdetect in ./venv/lib/python3.13/site-packages (from unstructured) (1.0.9)\n",
      "Requirement already satisfied: numpy in ./venv/lib/python3.13/site-packages (from unstructured) (2.3.2)\n",
      "Requirement already satisfied: rapidfuzz in ./venv/lib/python3.13/site-packages (from unstructured) (3.13.0)\n",
      "Requirement already satisfied: backoff in ./venv/lib/python3.13/site-packages (from unstructured) (2.2.1)\n",
      "Requirement already satisfied: typing-extensions in ./venv/lib/python3.13/site-packages (from unstructured) (4.14.1)\n",
      "Requirement already satisfied: unstructured-client in ./venv/lib/python3.13/site-packages (from unstructured) (0.42.3)\n",
      "Requirement already satisfied: wrapt in ./venv/lib/python3.13/site-packages (from unstructured) (1.17.3)\n",
      "Requirement already satisfied: tqdm in ./venv/lib/python3.13/site-packages (from unstructured) (4.67.1)\n",
      "Requirement already satisfied: psutil in ./venv/lib/python3.13/site-packages (from unstructured) (7.0.0)\n",
      "Requirement already satisfied: python-oxmsg in ./venv/lib/python3.13/site-packages (from unstructured) (0.0.2)\n",
      "Requirement already satisfied: html5lib in ./venv/lib/python3.13/site-packages (from unstructured) (1.1)\n",
      "Requirement already satisfied: soupsieve>1.2 in ./venv/lib/python3.13/site-packages (from beautifulsoup4->unstructured) (2.7)\n",
      "Requirement already satisfied: marshmallow<4.0.0,>=3.18.0 in ./venv/lib/python3.13/site-packages (from dataclasses-json->unstructured) (3.26.1)\n",
      "Requirement already satisfied: typing-inspect<1,>=0.4.0 in ./venv/lib/python3.13/site-packages (from dataclasses-json->unstructured) (0.9.0)\n",
      "Requirement already satisfied: packaging>=17.0 in ./venv/lib/python3.13/site-packages (from marshmallow<4.0.0,>=3.18.0->dataclasses-json->unstructured) (25.0)\n",
      "Requirement already satisfied: mypy-extensions>=0.3.0 in ./venv/lib/python3.13/site-packages (from typing-inspect<1,>=0.4.0->dataclasses-json->unstructured) (1.1.0)\n",
      "Requirement already satisfied: six>=1.9 in ./venv/lib/python3.13/site-packages (from html5lib->unstructured) (1.17.0)\n",
      "Requirement already satisfied: webencodings in ./venv/lib/python3.13/site-packages (from html5lib->unstructured) (0.5.1)\n",
      "Requirement already satisfied: click in ./venv/lib/python3.13/site-packages (from nltk->unstructured) (8.2.1)\n",
      "Requirement already satisfied: joblib in ./venv/lib/python3.13/site-packages (from nltk->unstructured) (1.5.1)\n",
      "Requirement already satisfied: regex>=2021.8.3 in ./venv/lib/python3.13/site-packages (from nltk->unstructured) (2025.7.34)\n",
      "Requirement already satisfied: olefile in ./venv/lib/python3.13/site-packages (from python-oxmsg->unstructured) (0.47)\n",
      "Requirement already satisfied: idna<4,>=2.5 in ./venv/lib/python3.13/site-packages (from requests->unstructured) (3.10)\n",
      "Requirement already satisfied: urllib3<3,>=1.21.1 in ./venv/lib/python3.13/site-packages (from requests->unstructured) (2.5.0)\n",
      "Requirement already satisfied: certifi>=2017.4.17 in ./venv/lib/python3.13/site-packages (from requests->unstructured) (2025.8.3)\n",
      "Requirement already satisfied: aiofiles>=24.1.0 in ./venv/lib/python3.13/site-packages (from unstructured-client->unstructured) (24.1.0)\n",
      "Requirement already satisfied: cryptography>=3.1 in ./venv/lib/python3.13/site-packages (from unstructured-client->unstructured) (45.0.6)\n",
      "Requirement already satisfied: httpcore>=1.0.9 in ./venv/lib/python3.13/site-packages (from unstructured-client->unstructured) (1.0.9)\n",
      "Requirement already satisfied: httpx>=0.27.0 in ./venv/lib/python3.13/site-packages (from unstructured-client->unstructured) (0.28.1)\n",
      "Requirement already satisfied: pydantic>=2.11.2 in ./venv/lib/python3.13/site-packages (from unstructured-client->unstructured) (2.11.7)\n",
      "Requirement already satisfied: pypdf>=4.0 in ./venv/lib/python3.13/site-packages (from unstructured-client->unstructured) (6.0.0)\n",
      "Requirement already satisfied: requests-toolbelt>=1.0.0 in ./venv/lib/python3.13/site-packages (from unstructured-client->unstructured) (1.0.0)\n",
      "Requirement already satisfied: cffi>=1.14 in ./venv/lib/python3.13/site-packages (from cryptography>=3.1->unstructured-client->unstructured) (1.17.1)\n",
      "Requirement already satisfied: pycparser in ./venv/lib/python3.13/site-packages (from cffi>=1.14->cryptography>=3.1->unstructured-client->unstructured) (2.22)\n",
      "Requirement already satisfied: h11>=0.16 in ./venv/lib/python3.13/site-packages (from httpcore>=1.0.9->unstructured-client->unstructured) (0.16.0)\n",
      "Requirement already satisfied: anyio in ./venv/lib/python3.13/site-packages (from httpx>=0.27.0->unstructured-client->unstructured) (4.10.0)\n",
      "Requirement already satisfied: annotated-types>=0.6.0 in ./venv/lib/python3.13/site-packages (from pydantic>=2.11.2->unstructured-client->unstructured) (0.7.0)\n",
      "Requirement already satisfied: pydantic-core==2.33.2 in ./venv/lib/python3.13/site-packages (from pydantic>=2.11.2->unstructured-client->unstructured) (2.33.2)\n",
      "Requirement already satisfied: typing-inspection>=0.4.0 in ./venv/lib/python3.13/site-packages (from pydantic>=2.11.2->unstructured-client->unstructured) (0.4.1)\n",
      "Requirement already satisfied: sniffio>=1.1 in ./venv/lib/python3.13/site-packages (from anyio->httpx>=0.27.0->unstructured-client->unstructured) (1.3.1)\n"
     ]
    }
   ],
   "source": [
    "!pip3 install unstructured libmagic python-magic"
   ]
  },
  {
   "cell_type": "code",
   "execution_count": 10,
   "id": "433baa97-0e4f-49c7-a99f-4ea8d622a96f",
   "metadata": {},
   "outputs": [
    {
     "name": "stdout",
     "output_type": "stream",
     "text": [
      "Requirement already satisfied: python-magic in ./venv/lib/python3.13/site-packages (0.4.27)\n"
     ]
    }
   ],
   "source": [
    "!pip install python-magic"
   ]
  },
  {
   "cell_type": "code",
   "execution_count": 11,
   "id": "3916ef5c-5336-4de4-a1b0-696cd09802a4",
   "metadata": {},
   "outputs": [],
   "source": [
    "# !pip3 install python-magic-bin==0.4.13 \n",
    "# not wroking this lib rary "
   ]
  },
  {
   "cell_type": "code",
   "execution_count": 12,
   "id": "bd0f2f0b-9fe4-4c8b-8593-a8721edf80a7",
   "metadata": {},
   "outputs": [],
   "source": [
    "from langchain_community.document_loaders import UnstructuredURLLoader"
   ]
  },
  {
   "cell_type": "code",
   "execution_count": 13,
   "id": "7c32ef60-5b65-46d0-b302-78d8a5fa66f5",
   "metadata": {},
   "outputs": [],
   "source": [
    "urls = [\n",
    "    \"https://www.moneycontrol.com/technology/ashwini-vaishnaw-govt-will-back-jobs-and-creative-economy-as-online-gaming-bill-takes-shape-article-13479972.html\",\n",
    "    \"https://www.moneycontrol.com/news/videos/business/economy/nitin-gadkari-exclusive-ethanol-blending-controversy-is-work-of-the-petroleum-lobby-13480283.html\", \n",
    "   \"https://www.moneycontrol.com/news/india/tamil-actor-vijay-eyes-2026-tamil-nadu-polls-but-star-run-outfits-have-rarely-had-an-easy-debut-13480205.html\",  \n",
    "    \"https://www.moneycontrol.com/news/business/economy/china-lifts-rare-earth-curbs-why-india-s-electronics-and-ev-makers-see-relief-and-a-warning-sign-13478681.html\"\n",
    "]"
   ]
  },
  {
   "cell_type": "code",
   "execution_count": 14,
   "id": "08739799-7f92-4334-a699-d26ac667c9fe",
   "metadata": {},
   "outputs": [],
   "source": [
    "urls = [\n",
    "\"https://www.binance.com/en/square/post/08-22-2025-whale-sells-ethereum-for-significant-profit-in-august-28652349496146\",\"https://www.binance.com/en/square/post/08-22-2025-hemi-blockchain-network-reveals-token-economics-28641299655561\"]"
   ]
  },
  {
   "cell_type": "code",
   "execution_count": 15,
   "id": "f4b6183c-269f-4854-8b86-5c4851fefaff",
   "metadata": {},
   "outputs": [],
   "source": [
    "urls = [\"https://finance.yahoo.com/news/oil-steady-focus-india-russia-004904848.html\"]"
   ]
  },
  {
   "cell_type": "code",
   "execution_count": 16,
   "id": "394d298c-fe46-4c3a-8906-93e8d45a1e57",
   "metadata": {},
   "outputs": [],
   "source": [
    "urls = [\"https://en.wikipedia.org/wiki/Web_scraping\",]"
   ]
  },
  {
   "cell_type": "code",
   "execution_count": 17,
   "id": "4685f92a-078c-4e55-ae5c-9049cc0cc063",
   "metadata": {},
   "outputs": [],
   "source": [
    "loader = UnstructuredURLLoader(urls=urls)"
   ]
  },
  {
   "cell_type": "code",
   "execution_count": 18,
   "id": "6a9ea63b-9ef9-4937-bcc1-448783c126b6",
   "metadata": {},
   "outputs": [],
   "source": [
    "wikiepediaData= loader.load()"
   ]
  },
  {
   "cell_type": "code",
   "execution_count": 19,
   "id": "cd2ddc45-3156-4a40-904f-4dd02e0b8859",
   "metadata": {},
   "outputs": [
    {
     "data": {
      "text/plain": [
       "1"
      ]
     },
     "execution_count": 19,
     "metadata": {},
     "output_type": "execute_result"
    }
   ],
   "source": [
    "len(wikiepediaData)"
   ]
  },
  {
   "cell_type": "code",
   "execution_count": 20,
   "id": "db58a5a0-9f15-4472-8db2-6cd6c97528c8",
   "metadata": {
    "scrolled": true
   },
   "outputs": [
    {
     "data": {
      "text/plain": [
       "Document(metadata={'source': 'https://en.wikipedia.org/wiki/Web_scraping'}, page_content='Web scraping\\n\\nالعربية\\n\\nCatalà\\n\\nČeština\\n\\nالدارجة\\n\\nDeutsch\\n\\nEspañol\\n\\nEuskara\\n\\nفارسی\\n\\nFrançais\\n\\n한국어\\n\\nBahasa Indonesia\\n\\nÍslenska\\n\\nItaliano\\n\\nLatviešu\\n\\nNederlands\\n\\n日本語\\n\\nPortuguês\\n\\nРусский\\n\\nTürkçe\\n\\nУкраїнська\\n\\n粵語\\n\\n中文\\n\\nEdit links\\n\\nFrom Wikipedia, the free encyclopedia\\n\\nFor broader coverage of this topic, see Data scraping.\\n\\nData scraping used for extracting data from websites\\n\\n\"Web scraper\" redirects here. For websites that scrape content, see Scraper site.\\n\\nThis article needs additional citations for verification . Please help improve this article by adding citations to reliable sources . Unsourced material may be challenged and removed. Find sources: \"Web scraping\" – news · newspapers · books · scholar · JSTOR ( April 2023 ) ( Learn how and when to remove this message )\\n\\nWeb scraping, web harvesting, or web data extraction is data scraping used for extracting data from websites.[1] Web scraping software may directly access the World Wide Web using the Hypertext Transfer Protocol or a web browser. While web scraping can be done manually by a software user, the term typically refers to automated processes implemented using a bot or web crawler. It is a form of copying in which specific data is gathered and copied from the web, typically into a central local database or spreadsheet, for later retrieval or analysis.\\n\\nScraping a web page involves fetching it and then extracting data from it. Fetching is the downloading of a page (which a browser does when a user views a page). Therefore, web crawling is a main component of web scraping, to fetch pages for later processing. Having fetched, extraction can take place. The content of a page may be parsed, searched and reformatted, and its data copied into a spreadsheet or loaded into a database. Web scrapers typically take something out of a page, to make use of it for another purpose somewhere else. An example would be finding and copying names and telephone numbers, companies and their URLs, or e-mail addresses to a list (contact scraping).\\n\\nAs well as contact scraping, web scraping is used as a component of applications used for web indexing, web mining and data mining, online price change monitoring and price comparison, product review scraping (to watch the competition), gathering real estate listings, weather data monitoring, website change detection, research, tracking online presence and reputation, web mashup, and web data integration.\\n\\nWeb pages are built using text-based mark-up languages (HTML and XHTML), and frequently contain a wealth of useful data in text form. However, most web pages are designed for human end-users and not for ease of automated use. As a result, specialized tools and software have been developed to facilitate the scraping of web pages. Web scraping applications include market research, price comparison, content monitoring, and more. Businesses rely on web scraping services to efficiently gather and utilize this data.\\n\\nNewer forms of web scraping involve monitoring data feeds from web servers. For example, JSON is commonly used as a transport mechanism between the client and the web server.\\n\\nThere are methods that some websites use to prevent web scraping, such as detecting and disallowing bots from crawling (viewing) their pages. In response, web scraping systems use techniques involving DOM parsing, computer vision and natural language processing to simulate human browsing to enable gathering web page content for offline parsing.\\n\\nHistory\\n\\n[edit]\\n\\nAfter the birth of the World Wide Web in 1989, the first web robot,[2] World Wide Web Wanderer, was created in June 1993, which was intended only to measure the size of the web.\\n\\nIn December 1993, the first crawler-based web search engine, JumpStation, was launched. As there were fewer websites available on the web, search engines at that time used to rely on human administrators to collect and format links. In comparison, Jump Station was the first WWW search engine to rely on a web robot.\\n\\nIn 2000, the first Web API and API crawler were created. An API (Application Programming Interface) is an interface that makes it much easier to develop a program by providing the building blocks. In 2000, Salesforce and eBay launched their own API, with which programmers could access and download some of the data available to the public.[3] Since then, many websites offer web APIs for people to access their public database.\\n\\nTechniques\\n\\n[edit]\\n\\nWeb scraping is the process of automatically mining data or collecting information from the World Wide Web. It is a field with active developments sharing a common goal with the semantic web vision, an ambitious initiative that still requires breakthroughs in text processing, semantic understanding, artificial intelligence and human-computer interactions.\\n\\nHuman copy-and-paste\\n\\n[edit]\\n\\nThe simplest form of web scraping is manually copying and pasting data from a web page into a text file or spreadsheet. Sometimes even the best web-scraping technology cannot replace a human\\'s manual examination and copy-and-paste, and sometimes this may be the only workable solution when the websites for scraping explicitly set up barriers to prevent machine automation.\\n\\nText pattern matching\\n\\n[edit]\\n\\nA simple yet powerful approach to extract information from web pages can be based on the UNIX grep command or regular expression-matching facilities of programming languages (for instance Perl or Python).\\n\\nHTTP programming\\n\\n[edit]\\n\\nStatic and dynamic web pages can be retrieved by posting HTTP requests to the remote web server using socket programming.\\n\\nHTML parsing\\n\\n[edit]\\n\\nMany websites have large collections of pages generated dynamically from an underlying structured source like a database. Data of the same category are typically encoded into similar pages by a common script or template. In data mining, a program that detects such templates in a particular information source, extracts its content, and translates it into a relational form, is called a wrapper. Wrapper generation algorithms assume that input pages of a wrapper induction system conform to a common template and that they can be easily identified in terms of a URL common scheme.[4] Moreover, some semi-structured data query languages, such as XQuery and the HTQL, can be used to parse HTML pages and to retrieve and transform page content.\\n\\nDOM parsing\\n\\n[edit]\\n\\nFurther information: Document Object Model\\n\\nBy using a program such as Selenium or Playwright, developers can control a web browser such as Chrome or Firefox wherein they can load, navigate, and retrieve data from websites. This method can be especially useful for scraping data from dynamic sites since a web browser will fully load each page. Once an entire page is loaded, you can access and parse the DOM using an expression language such as XPath.\\n\\nVertical aggregation\\n\\n[edit]\\n\\nThere are several companies that have developed vertical specific harvesting platforms. These platforms create and monitor a multitude of \"bots\" for specific verticals with no \"man in the loop\" (no direct human involvement), and no work related to a specific target site. The preparation involves establishing the knowledge base for the entire vertical and then the platform creates the bots automatically. The platform\\'s robustness is measured by the quality of the information it retrieves (usually number of fields) and its scalability (how quick it can scale up to hundreds or thousands of sites). This scalability is mostly used to target the Long Tail of sites that common aggregators find complicated or too labor-intensive to harvest content from.\\n\\nSemantic annotation recognizing\\n\\n[edit]\\n\\nThe pages being scraped may embrace metadata or semantic markups and annotations, which can be used to locate specific data snippets. If the annotations are embedded in the pages, as Microformat does, this technique can be viewed as a special case of DOM parsing. In another case, the annotations, organized into a semantic layer,[5] are stored and managed separately from the web pages, so the scrapers can retrieve data schema and instructions from this layer before scraping the pages.\\n\\nComputer vision web-page analysis\\n\\n[edit]\\n\\nThere are efforts using machine learning and computer vision that attempt to identify and extract information from web pages by interpreting pages visually as a human being might.[6]\\n\\nAI-powered document understanding\\n\\n[edit]\\n\\nUses advanced AI to interpret and process web page content contextually, extracting relevant information, transforming data, and customizing outputs based on the content\\'s structure and meaning. This method enables more intelligent and flexible data extraction, accommodating complex and dynamic web content.\\n\\nLegal issues\\n\\n[edit]\\n\\nThe examples and perspective in this section deal primarily with the United States and do not represent a worldwide view of the subject . You may improve this section , discuss the issue on the talk page , or create a new section, as appropriate. ( October 2015 ) ( Learn how and when to remove this message )\\n\\nThe legality of web scraping varies across the world. In general, web scraping may be against the terms of service of some websites, but the enforceability of these terms is unclear.[7]\\n\\nUnited States\\n\\n[edit]\\n\\nIn the United States, website owners can use three major legal claims to prevent undesired web scraping: (1) copyright infringement (compilation), (2) violation of the Computer Fraud and Abuse Act (\"CFAA\"), and (3) trespass to chattel.[8] However, the effectiveness of these claims relies upon meeting various criteria, and the case law is still evolving. For example, with regard to copyright, while outright duplication of original expression will in many cases be illegal, in the United States the courts ruled in Feist Publications v. Rural Telephone Service that duplication of facts is allowable.\\n\\nU.S. courts have acknowledged that users of \"scrapers\" or \"robots\" may be held liable for committing trespass to chattels,[9][10] which involves a computer system itself being considered personal property upon which the user of a scraper is trespassing. The best known of these cases, eBay v. Bidder\\'s Edge, resulted in an injunction ordering Bidder\\'s Edge to stop accessing, collecting, and indexing auctions from the eBay web site. This case involved automatic placing of bids, known as auction sniping. However, in order to succeed on a claim of trespass to chattels, the plaintiff must demonstrate that the defendant intentionally and without authorization interfered with the plaintiff\\'s possessory interest in the computer system and that the defendant\\'s unauthorized use caused damage to the plaintiff. Not all cases of web spidering brought before the courts have been considered trespass to chattels.[11]\\n\\nOne of the first major tests of screen scraping involved American Airlines (AA), and a firm called FareChase.[12] AA successfully obtained an injunction from a Texas trial court, stopping FareChase from selling software that enables users to compare online fares if the software also searches AA\\'s website. The airline argued that FareChase\\'s websearch software trespassed on AA\\'s servers when it collected the publicly available data. FareChase filed an appeal in March 2003. By June, FareChase and AA agreed to settle and the appeal was dropped.[13]\\n\\nSouthwest Airlines has also challenged screen-scraping practices, and has involved both FareChase and another firm, Outtask, in a legal claim. Southwest Airlines charged that the screen-scraping is Illegal since it is an example of \"Computer Fraud and Abuse\" and has led to \"Damage and Loss\" and \"Unauthorized Access\" of Southwest\\'s site. It also constitutes \"Interference with Business Relations\", \"Trespass\", and \"Harmful Access by Computer\". They also claimed that screen-scraping constitutes what is legally known as \"Misappropriation and Unjust Enrichment\", as well as being a breach of the web site\\'s user agreement. Outtask denied all these claims, claiming that the prevailing law, in this case, should be US Copyright law and that under copyright, the pieces of information being scraped would not be subject to copyright protection. Although the cases were never resolved in the Supreme Court of the United States, FareChase was eventually shuttered by parent company Yahoo!, and Outtask was purchased by travel expense company Concur.[14] In 2012, a startup called 3Taps scraped classified housing ads from Craigslist. Craigslist sent 3Taps a cease-and-desist letter and blocked their IP addresses and later sued, in Craigslist v. 3Taps. The court held that the cease-and-desist letter and IP blocking was sufficient for Craigslist to properly claim that 3Taps had violated the Computer Fraud and Abuse Act (CFAA).\\n\\nAlthough these are early scraping decisions, and the theories of liability are not uniform, it is difficult to ignore a pattern emerging that the courts are prepared to protect proprietary content on commercial sites from uses which are undesirable to the owners of such sites. However, the degree of protection for such content is not settled and will depend on the type of access made by the scraper, the amount of information accessed and copied, the degree to which the access adversely affects the site owner\\'s system and the types and manner of prohibitions on such conduct.[15]\\n\\nWhile the law in this area becomes more settled, entities contemplating using scraping programs to access a public web site should also consider whether such action is authorized by reviewing the terms of use and other terms or notices posted on or made available through the site. In Cvent Inc. v. Eventbrite Inc. (2010), the United States district court for the eastern district of Virginia, ruled that the terms of use should be brought to the users\\' attention in order for a browsewrap contract or license to be enforceable.[16] In a 2014 case, filed in the United States District Court for the Eastern District of Pennsylvania,[17] e-commerce site QVC objected to the Pinterest-like shopping aggregator Resultly\\'s \\'scraping of QVC\\'s site for real-time pricing data. QVC alleges that Resultly \"excessively crawled\" QVC\\'s retail site (allegedly sending 200-300 search requests to QVC\\'s website per minute, sometimes to up to 36,000 requests per minute) which caused QVC\\'s site to crash for two days, resulting in lost sales for QVC.[18] QVC\\'s complaint alleges that the defendant disguised its web crawler to mask its source IP address and thus prevented QVC from quickly repairing the problem. This is a particularly interesting scraping case because QVC is seeking damages for the unavailability of their website, which QVC claims was caused by Resultly.\\n\\nIn the plaintiff\\'s web site during the period of this trial, the terms of use link are displayed among all the links of the site, at the bottom of the page as most sites on the internet. This ruling contradicts the Irish ruling described below. The court also rejected the plaintiff\\'s argument that the browse-wrap restrictions were enforceable in view of Virginia\\'s adoption of the Uniform Computer Information Transactions Act (UCITA)—a uniform law that many believed was in favor on common browse-wrap contracting practices.[19]\\n\\nIn Facebook, Inc. v. Power Ventures, Inc., a district court ruled in 2012 that Power Ventures could not scrape Facebook pages on behalf of a Facebook user. The case is on appeal, and the Electronic Frontier Foundation filed a brief in 2015 asking that it be overturned.[20][21] In Associated Press v. Meltwater U.S. Holdings, Inc., a court in the US held Meltwater liable for scraping and republishing news information from the Associated Press, but a court in the United Kingdom held in favor of Meltwater.\\n\\nThe Ninth Circuit ruled in 2019 that web scraping did not violate the CFAA in hiQ Labs v. LinkedIn. The case was appealed to the United States Supreme Court, which returned the case to the Ninth Circuit to reconsider the case in light of the 2021 Supreme Court decision in Van Buren v. United States which narrowed the applicability of the CFAA.[22] On this review, the Ninth Circuit upheld their prior decision.[23]\\n\\nInternet Archive collects and distributes a significant number of publicly available web pages without being considered to be in violation of copyright laws.[citation needed]\\n\\nEuropean Union\\n\\n[edit]\\n\\nIn February 2006, the Danish Maritime and Commercial Court (Copenhagen) ruled that systematic crawling, indexing, and deep linking by portal site ofir.dk of real estate site Home.dk does not conflict with Danish law or the database directive of the European Union.[24]\\n\\nIn a February 2010 case complicated by matters of jurisdiction, Ireland\\'s High Court delivered a verdict that illustrates the inchoate state of developing case law. In the case of Ryanair Ltd v Billigfluege.de GmbH, Ireland\\'s High Court ruled Ryanair\\'s \"click-wrap\" agreement to be legally binding. In contrast to the findings of the United States District Court Eastern District of Virginia and those of the Danish Maritime and Commercial Court, Justice Michael Hanna ruled that the hyperlink to Ryanair\\'s terms and conditions was plainly visible, and that placing the onus on the user to agree to terms and conditions in order to gain access to online services is sufficient to comprise a contractual relationship.[25] The decision is under appeal in Ireland\\'s Supreme Court.[26]\\n\\nOn April 30, 2020, the French Data Protection Authority (CNIL) released new guidelines on web scraping.[27] The CNIL guidelines made it clear that publicly available data is still personal data and cannot be repurposed without the knowledge of the person to whom that data belongs.[28]\\n\\nAustralia\\n\\n[edit]\\n\\nIn Australia, the Spam Act 2003 outlaws some forms of web harvesting, although this only applies to email addresses.[29][30]\\n\\nIndia\\n\\n[edit]\\n\\nLeaving a few cases dealing with IPR infringement, Indian courts have not expressly ruled on the legality of web scraping. However, since all common forms of electronic contracts are enforceable in India, violating the terms of use prohibiting data scraping will be a violation of the contract law. It will also violate the Information Technology Act, 2000, which penalizes unauthorized access to a computer resource or extracting data from a computer resource.\\n\\nMethods to prevent web scraping\\n\\n[edit]\\n\\nThe administrator of a website can use various measures to stop or slow a bot. Some techniques include:\\n\\nBlocking an IP address either manually or based on criteria such as geolocation and DNSRBL. This will also block all browsing from that address.\\n\\nDisabling any web service API that the website\\'s system might expose.\\n\\nBots sometimes declare who they are (using user agent strings) and can be blocked on that basis using robots.txt; \\'googlebot\\' is an example. Other bots make no distinction between themselves and a human using a browser.\\n\\nBots can be blocked by monitoring excess traffic.\\n\\nBots can sometimes be blocked with tools to verify that it is a real person accessing the site, like a CAPTCHA. Bots are sometimes coded to explicitly break specific CAPTCHA patterns or may employ third-party services that utilize human labor to read and respond in real-time to CAPTCHA challenges. They can be triggered because the bot is: 1) making too many requests in a short time, 2) using low-quality proxies, or 3) not covering the web scraper’s fingerprint properly.[31]\\n\\nCommercial anti-bot services: Companies offer anti-bot and anti-scraping services for websites. A few web application firewalls have limited bot detection capabilities as well. However, many such solutions are not very effective.[32]\\n\\nLocating bots with a honeypot or other method to identify the IP addresses of automated crawlers.\\n\\nObfuscation using CSS sprites to display such data as telephone numbers or email addresses, at the cost of accessibility to screen reader users.\\n\\nBecause bots rely on consistency in the front-end code of a target website, adding small variations to the HTML/CSS surrounding important data and navigation elements would require more human involvement in the initial set up of a bot and if done effectively may render the target website too difficult to scrape due to the diminished ability to automate the scraping process.\\n\\nWebsites can declare if crawling is allowed or not in the robots.txt file and allow partial access, limit the crawl rate, specify the optimal time to crawl and more.\\n\\nSee also\\n\\n[edit]\\n\\nArchive.today\\n\\nComparison of feed aggregators\\n\\nData scraping\\n\\nData wrangling\\n\\nImporter\\n\\nJob wrapping\\n\\nKnowledge extraction\\n\\nOpenSocial\\n\\nScraper site\\n\\nFake news website\\n\\nSpamdexing\\n\\nDomain name drop list\\n\\nText corpus\\n\\nWeb archiving\\n\\nWeb crawler\\n\\nOffline reader\\n\\nLink farm (blog network)\\n\\nSearch engine scraping\\n\\nWeb crawlers\\n\\nReferences\\n\\n[edit]\\n\\n^ Thapelo, Tsaone Swaabow; Namoshe, Molaletsa; Matsebe, Oduetse; Motshegwa, Tshiamo; Bopape, Mary-Jane Morongwa (2021-07-28). \"SASSCAL WebSAPI: A Web Scraping Application Programming Interface to Support Access to SASSCAL\\'s Weather Data\". Data Science Journal. 20: 24. doi:10.5334/dsj-2021-024. ISSN 1683-1470. S2CID 237719804.\\n\\n^ \"Search Engine History.com\". Search Engine History. Retrieved November 26, 2019.\\n\\n^ \"eBay, API\\'s, and the Connected Web\". THE HISTORY OF THE WEB. Retrieved June 23, 2025.\\n\\n^ Song, Ruihua; Microsoft Research (Sep 14, 2007). \"Joint optimization of wrapper generation and template detection\" (PDF). Proceedings of the 13th ACM SIGKDD international conference on Knowledge discovery and data mining. p. 894. doi:10.1145/1281192.1281287. ISBN 9781595936097. S2CID 833565. Archived from the original (PDF) on October 11, 2016.\\n\\n^ Semantic annotation based web scraping\\n\\n^ Roush, Wade (2012-07-25). \"Diffbot Is Using Computer Vision to Reinvent the Semantic Web\". www.xconomy.com. Retrieved 2013-03-15.\\n\\n^ \"FAQ about linking – Are website terms of use binding contracts?\". www.chillingeffects.org. 2007-08-20. Archived from the original on 2002-03-08. Retrieved 2007-08-20.\\n\\n^ Kenneth, Hirschey, Jeffrey (2014-01-01). \"Symbiotic Relationships: Pragmatic Acceptance of Data Scraping\". Berkeley Technology Law Journal. 29 (4). doi:10.15779/Z38B39B. ISSN 1086-3818.{{cite journal}}: CS1 maint: multiple names: authors list (link)\\n\\n^ \"Internet Law, Ch. 06: Trespass to Chattels\". www.tomwbell.com. 2007-08-20. Retrieved 2007-08-20.\\n\\n^ \"What are the \"trespass to chattels\" claims some companies or website owners have brought?\". www.chillingeffects.org. 2007-08-20. Archived from the original on 2002-03-08. Retrieved 2007-08-20.\\n\\n^ \"Ticketmaster Corp. v. Tickets.com, Inc\". 2007-08-20. Retrieved 2007-08-20.\\n\\n^ \"American Airlines v. FareChase\" (PDF). 2007-08-20. Archived from the original (PDF) on 2011-07-23. Retrieved 2007-08-20.\\n\\n^ \"American Airlines, FareChase Settle Suit\". The Free Library. 2003-06-13. Archived from the original on 2016-03-05. Retrieved 2012-02-26.\\n\\n^ Imperva (2011). Detecting and Blocking Site Scraping Attacks. Imperva white paper.\\n\\n^ Adler, Kenneth A. (2003-07-29). \"Controversy Surrounds \\'Screen Scrapers\\': Software Helps Users Access Web Sites But Activity by Competitors Comes Under Scrutiny\". Archived from the original on 2011-02-11. Retrieved 2010-10-27.\\n\\n^ \"CVENT, Inc. v. Eventbrite, Inc.,et al\" (PDF). 2014-11-24. Archived from the original (PDF) on 2013-09-21. Retrieved 2015-11-05.\\n\\n^ \"QVC Inc. v. Resultly LLC, No. 14-06714 (E.D. Pa. filed Nov. 24, 2014)\". United States District Court for the Eastern District of Pennsylvania. Retrieved 5 November 2015.\\n\\n^ Neuburger, Jeffrey D (5 December 2014). \"QVC Sues Shopping App for Web Scraping That Allegedly Triggered Site Outage\". The National Law Review. Proskauer Rose LLP. Retrieved 5 November 2015.\\n\\n^ \"Did Iqbal/Twombly Raise the Bar for Browsewrap Claims?\" (PDF). 2010-09-17. Archived from the original (PDF) on 2011-07-23. Retrieved 2010-10-27.\\n\\n^ \"Can Scraping Non-Infringing Content Become Copyright Infringement... Because Of How Scrapers Work? | Techdirt\". Techdirt. 2009-06-10. Retrieved 2016-05-24.\\n\\n^ \"Facebook v. Power Ventures\". Electronic Frontier Foundation. July 2011. Retrieved 2016-05-24.\\n\\n^ Chung, Andrew (June 14, 2021). \"U.S. Supreme Court revives LinkedIn bid to shield personal data\". Reuters. Retrieved June 14, 2021.\\n\\n^ Whittaker, Zack (18 April 2022). \"Web scraping is legal, US appeals court reaffirms\". TechCrunch.\\n\\n^ \"UDSKRIFT AF SØ- & HANDELSRETTENS DOMBOG\" (PDF) (in Danish). bvhd.dk. 2006-02-24. Archived from the original (PDF) on 2007-10-12. Retrieved 2007-05-30.\\n\\n^ \"High Court of Ireland Decisions >> Ryanair Ltd -v- Billigfluege.de GMBH 2010 IEHC 47 (26 February 2010)\". British and Irish Legal Information Institute. 2010-02-26. Retrieved 2012-04-19.\\n\\n^ Matthews, Áine (June 2010). \"Intellectual Property: Website Terms of Use\". Issue 26: June 2010. LK Shields Solicitors Update. p. 03. Archived from the original on 2012-06-24. Retrieved 2012-04-19.\\n\\n^ \"La réutilisation des données publiquement accessibles en ligne à des fins de démarchage commercial | CNIL\". www.cnil.fr (in French). Retrieved 2020-07-05.\\n\\n^ FindDataLab.com (2020-06-09). \"Can You Still Perform Web Scraping With The New CNIL Guidelines?\". Medium. Retrieved 2020-07-05.\\n\\n^ National Office for the Information Economy (February 2004). \"Spam Act 2003: An overview for business\". Australian Communications Authority. p. 6. Archived from the original on 2019-12-03. Retrieved 2017-12-07.\\n\\n^ National Office for the Information Economy (February 2004). \"Spam Act 2003: A practical guide for business\" (PDF). Australian Communications Authority. p. 20. Retrieved 2017-12-07.\\n\\n^ \"Web Scraping for Beginners: A Guide 2024\". Proxyway. 2023-08-31. Retrieved 2024-03-15.\\n\\n^ Mayank Dhiman Breaking Fraud & Bot Detection Solutions OWASP AppSec Cali\\' 2018 Retrieved February 10, 2018.\\n\\nRetrieved from \"https://en.wikipedia.org/w/index.php?title=Web_scraping&oldid=1297146564\"\\n\\nCategory:\\n\\nWeb scraping\\n\\nHidden categories:\\n\\nCS1 maint: multiple names: authors list\\n\\nCS1 Danish-language sources (da)\\n\\nCS1 French-language sources (fr)\\n\\nArticles with short description\\n\\nShort description matches Wikidata\\n\\nArticles needing additional references from April 2023\\n\\nAll articles needing additional references\\n\\nArticles with limited geographic scope from October 2015\\n\\nUnited States-centric\\n\\nAll articles with unsourced statements\\n\\nArticles with unsourced statements from April 2023')"
      ]
     },
     "execution_count": 20,
     "metadata": {},
     "output_type": "execute_result"
    }
   ],
   "source": [
    "wikiepediaData[0]"
   ]
  },
  {
   "cell_type": "code",
   "execution_count": null,
   "id": "df17ec63-c9c3-4543-bc67-e34a77b74cad",
   "metadata": {},
   "outputs": [],
   "source": []
  },
  {
   "cell_type": "code",
   "execution_count": 21,
   "id": "42eef3cd-0fd4-459f-affa-82aa9fbb83d2",
   "metadata": {},
   "outputs": [],
   "source": [
    "from langchain.text_splitter import CharacterTextSplitter\n",
    "spillter = CharacterTextSplitter(\n",
    "    separator=\"n\",\n",
    "    chunk_size=200,\n",
    "    chunk_overlap=0,\n",
    "\n",
    ")\n",
    "newsChunk = spillter.split_text(newsData[0].page_content)"
   ]
  },
  {
   "cell_type": "code",
   "execution_count": 22,
   "id": "9b6be464-a016-43e0-b127-cd578a55ccfe",
   "metadata": {},
   "outputs": [],
   "source": [
    "from langchain.text_splitter import CharacterTextSplitter\n",
    "spillter = CharacterTextSplitter(\n",
    "    separator=\"n\",\n",
    "    chunk_size=200,\n",
    "    chunk_overlap=0,\n",
    "\n",
    ")\n",
    "webchunks = spillter.split_text(wikiepediaData[0].page_content)"
   ]
  },
  {
   "cell_type": "code",
   "execution_count": 23,
   "id": "c737c593-d5eb-483b-b065-b2915880b1e5",
   "metadata": {},
   "outputs": [
    {
     "data": {
      "text/plain": [
       "146"
      ]
     },
     "execution_count": 23,
     "metadata": {},
     "output_type": "execute_result"
    }
   ],
   "source": [
    "len(webchunks)"
   ]
  },
  {
   "cell_type": "code",
   "execution_count": null,
   "id": "fdef7dbb-e356-46c6-bcce-716080184329",
   "metadata": {},
   "outputs": [],
   "source": []
  },
  {
   "cell_type": "code",
   "execution_count": 24,
   "id": "b08d3a8c-5ebc-4e17-9fa5-68fc290183f8",
   "metadata": {
    "scrolled": true
   },
   "outputs": [
    {
     "data": {
      "text/plain": [
       "['Web scraping\\n\\nالعربية\\n\\nCatalà\\n\\nČeština\\n\\nالدارجة\\n\\nDeutsch\\n\\nEspañol\\n\\nEuskara\\n\\nفارسی\\n\\nFrançais\\n\\n한국어\\n\\nBahasa Indonesia\\n\\nÍslenska\\n\\nItaliano\\n\\nLatviešu\\n\\nNederla',\n",
       " 'ds\\n\\n日本語\\n\\nPortuguês\\n\\nРусский\\n\\nTürkçe\\n\\nУкраїнська\\n\\n粵語\\n\\n中文\\n\\nEdit links\\n\\nFrom Wikipedia, the free encyclopedia\\n\\nFor broader coverage of this topic, see Data scraping.\\n\\nData scraping used for extracti',\n",
       " 'g data from websites\\n\\n\"Web scraper\" redirects here. For websites that scrape content, see Scraper site.\\n\\nThis article needs additional citations for verificatio',\n",
       " '. Please help improve this article by adding citations to reliable sources . Unsourced material may be challenged and removed. Find sources: \"Web scraping\" – news ·',\n",
       " 'ewspapers · books · scholar · JSTOR ( April 2023 ) ( Learn how and when to remove this message )\\n\\nWeb scraping, web harvesting, or web data extraction is data scraping used for extracti',\n",
       " 'g data from websites.[1] Web scraping software may directly access the World Wide Web using the Hypertext Transfer Protocol or a web browser. While web scraping can be done ma',\n",
       " 'ually by a software user, the term typically refers to automated processes implemented using a bot or web crawler. It is a form of copying in which specific data is gathered a',\n",
       " 'd copied from the web, typically into a central local database or spreadsheet, for later retrieval or analysis.\\n\\nScraping a web page involves fetching it and then extracting data from it. Fetchi',\n",
       " 'g is the downloading of a page (which a browser does when a user views a page). Therefore, web crawling is a main component of web scraping, to fetch pages for later processing. Havi',\n",
       " 'g fetched, extraction can take place. The content of a page may be parsed, searched and reformatted, and its data copied into a spreadsheet or loaded i',\n",
       " 'to a database. Web scrapers typically take something out of a page, to make use of it for another purpose somewhere else. An example would be finding and copying names and telephone numbers, compa',\n",
       " 'ies and their URLs, or e-mail addresses to a list (contact scraping).\\n\\nAs well as contact scraping, web scraping is used as a component of applications used for web indexing, web mining and data mini',\n",
       " 'g, online price change monitoring and price comparison, product review scraping (to watch the competition), gathering real estate listings, weather data monitoring, website change detectio',\n",
       " ', research, tracking online presence and reputation, web mashup, and web data integration.\\n\\nWeb pages are built using text-based mark-up languages (HTML and XHTML), and frequently contai',\n",
       " 'a wealth of useful data in text form. However, most web pages are designed for human end-users and not for ease of automated use. As a result, specialized tools and software have bee',\n",
       " 'developed to facilitate the scraping of web pages. Web scraping applications include market research, price comparison, content monitoring, and more. Businesses rely on web scrapi',\n",
       " 'g services to efficiently gather and utilize this data.\\n\\nNewer forms of web scraping involve monitoring data feeds from web servers. For example, JSON is commonly used as a transport mechanism betwee',\n",
       " 'the client and the web server.\\n\\nThere are methods that some websites use to prevent web scraping, such as detecting and disallowing bots from crawling (viewing) their pages. In response, web scrapi',\n",
       " 'g systems use techniques involving DOM parsing, computer vision and natural language processing to simulate human browsing to enable gathering web page content for offline parsi',\n",
       " 'g.\\n\\nHistory\\n\\n[edit]\\n\\nAfter the birth of the World Wide Web in 1989, the first web robot,[2] World Wide Web Wanderer, was created in June 1993, which was intended o',\n",
       " 'ly to measure the size of the web.\\n\\nIn December 1993, the first crawler-based web search engine, JumpStation, was launched. As there were fewer websites available on the web, search engi',\n",
       " 'es at that time used to rely on human administrators to collect and format links. In comparison, Jump Station was the first WWW search engine to rely on a web robot.\\n\\nIn 2000, the first Web API a',\n",
       " 'd API crawler were created. An API (Application Programming Interface) is an interface that makes it much easier to develop a program by providing the building blocks. In 2000, Salesforce and eBay lau',\n",
       " 'ched their own API, with which programmers could access and download some of the data available to the public.[3] Since then, ma',\n",
       " 'y websites offer web APIs for people to access their public database.\\n\\nTechniques\\n\\n[edit]\\n\\nWeb scraping is the process of automatically mining data or collecting informatio',\n",
       " 'from the World Wide Web. It is a field with active developments sharing a common goal with the semantic web vision, an ambitious initiative that still requires breakthroughs in text processing, sema',\n",
       " 'tic understanding, artificial intelligence and human-computer interactions.\\n\\nHuman copy-and-paste\\n\\n[edit]\\n\\nThe simplest form of web scraping is manually copying and pasting data from a web page i',\n",
       " \"to a text file or spreadsheet. Sometimes even the best web-scraping technology canot replace a human's manual examination and copy-and-paste, and sometimes this may be the only workable solution whe\",\n",
       " 'the websites for scraping explicitly set up barriers to prevent machine automation.\\n\\nText pattern matching\\n\\n[edit]\\n\\nA simple yet powerful approach to extract information from web pages can be based o',\n",
       " 'the UNIX grep command or regular expression-matching facilities of programming languages (for instance Perl or Python).\\n\\nHTTP programming\\n\\n[edit]\\n\\nStatic and dynamic web pages ca',\n",
       " 'be retrieved by posting HTTP requests to the remote web server using socket programming.\\n\\nHTML parsing\\n\\n[edit]\\n\\nMany websites have large collections of pages generated dynamically from an underlyi',\n",
       " 'g structured source like a database. Data of the same category are typically encoded into similar pages by a common script or template. In data mining, a program that detects such templates i',\n",
       " 'a particular information source, extracts its content, and translates it into a relational form, is called a wrapper. Wrapper generation algorithms assume that input pages of a wrapper inductio',\n",
       " 'system conform to a common template and that they can be easily identified in terms of a URL common scheme.[4] Moreover, some semi-structured data query languages, such as XQuery and the HTQL, ca',\n",
       " 'be used to parse HTML pages and to retrieve and transform page content.\\n\\nDOM parsing\\n\\n[edit]\\n\\nFurther information: Document Object Model\\n\\nBy using a program such as Sele',\n",
       " 'ium or Playwright, developers can control a web browser such as Chrome or Firefox wherein they can load, navigate, and retrieve data from websites. This method can be especially useful for scrapi',\n",
       " 'g data from dynamic sites since a web browser will fully load each page. Once an entire page is loaded, you can access and parse the DOM using an expression la',\n",
       " 'guage such as XPath.\\n\\nVertical aggregation\\n\\n[edit]\\n\\nThere are several companies that have developed vertical specific harvesting platforms. These platforms create and mo',\n",
       " 'itor a multitude of \"bots\" for specific verticals with no \"man in the loop\" (no direct human involvement), and no work related to a specific target site. The preparation involves establishing the k',\n",
       " \"owledge base for the entire vertical and then the platform creates the bots automatically. The platform's robustness is measured by the quality of the information it retrieves (usually\",\n",
       " 'umber of fields) and its scalability (how quick it can scale up to hundreds or thousands of sites). This scalability is mostly used to target the Long Tail of sites that common aggregators fi',\n",
       " 'd complicated or too labor-intensive to harvest content from.\\n\\nSemantic anotation recognizing\\n\\n[edit]\\n\\nThe pages being scraped may embrace metadata or semantic markups and anotations, which ca',\n",
       " 'be used to locate specific data snippets. If the anotations are embedded in the pages, as Microformat does, this technique can be viewed as a special case of DOM parsing. In another case, the a',\n",
       " 'otations, organized into a semantic layer,[5] are stored and managed separately from the web pages, so the scrapers can retrieve data schema and instructions from this layer before scrapi',\n",
       " 'g the pages.\\n\\nComputer vision web-page analysis\\n\\n[edit]\\n\\nThere are efforts using machine learning and computer vision that attempt to identify and extract information from web pages by interpreti',\n",
       " 'g pages visually as a human being might.[6]\\n\\nAI-powered document understanding\\n\\n[edit]\\n\\nUses advanced AI to interpret and process web page content contextually, extracting relevant information, tra',\n",
       " \"sforming data, and customizing outputs based on the content's structure and meaning. This method enables more intelligent and flexible data extraction, accommodating complex and dynamic web conte\",\n",
       " 't.\\n\\nLegal issues\\n\\n[edit]\\n\\nThe examples and perspective in this section deal primarily with the United States and do not represent a worldwide view of the subject . You may improve this sectio',\n",
       " ', discuss the issue on the talk page , or create a new section, as appropriate. ( October 2015 ) ( Learn how and when to remove this message )\\n\\nThe legality of web scraping varies across the world. I',\n",
       " 'general, web scraping may be against the terms of service of some websites, but the enforceability of these terms is unclear.[7]\\n\\nUnited States\\n\\n[edit]\\n\\nIn the United States, website owners ca',\n",
       " 'use three major legal claims to prevent undesired web scraping: (1) copyright infringement (compilation), (2) violation of the Computer Fraud and Abuse Act (\"CFAA\"), a',\n",
       " 'd (3) trespass to chattel.[8] However, the effectiveness of these claims relies upon meeting various criteria, and the case law is still evolvi',\n",
       " 'g. For example, with regard to copyright, while outright duplication of original expression will in many cases be illegal, in the United States the courts ruled in Feist Publications v. Rural Telepho',\n",
       " 'e Service that duplication of facts is allowable.\\n\\nU.S. courts have acknowledged that users of \"scrapers\" or \"robots\" may be held liable for committing trespass to chattels,[9][10] which i',\n",
       " \"volves a computer system itself being considered personal property upon which the user of a scraper is trespassing. The best known of these cases, eBay v. Bidder's Edge, resulted in an injunctio\",\n",
       " \"ordering Bidder's Edge to stop accessing, collecting, and indexing auctions from the eBay web site. This case involved automatic placing of bids, known as auction sniping. However, i\",\n",
       " \"order to succeed on a claim of trespass to chattels, the plaintiff must demonstrate that the defendant intentionally and without authorization interfered with the plaintiff's possessory interest i\",\n",
       " \"the computer system and that the defendant's unauthorized use caused damage to the plaintiff. Not all cases of web spidering brought before the courts have been co\",\n",
       " 'sidered trespass to chattels.[11]\\n\\nOne of the first major tests of screen scraping involved American Airlines (AA), and a firm called FareChase.[12] AA successfully obtained an injunctio',\n",
       " \"from a Texas trial court, stopping FareChase from selling software that enables users to compare online fares if the software also searches AA's website. The airli\",\n",
       " \"e argued that FareChase's websearch software trespassed on AA's servers when it collected the publicly available data. FareChase filed an appeal in March 2003. By June, FareChase a\",\n",
       " 'd AA agreed to settle and the appeal was dropped.[13]\\n\\nSouthwest Airlines has also challenged screen-scraping practices, and has involved both FareChase and another firm, Outtask, i',\n",
       " 'a legal claim. Southwest Airlines charged that the screen-scraping is Illegal since it is an example of \"Computer Fraud and Abuse\" and has led to \"Damage and Loss\" and \"U',\n",
       " 'authorized Access\" of Southwest\\'s site. It also constitutes \"Interference with Business Relations\", \"Trespass\", and \"Harmful Access by Computer\". They also claimed that screen-scraping co',\n",
       " 'stitutes what is legally known as \"Misappropriation and Unjust Enrichment\", as well as being a breach of the web site\\'s user agreement. Outtask denied all these claims, claiming that the prevaili',\n",
       " 'g law, in this case, should be US Copyright law and that under copyright, the pieces of information being scraped would not be subject to copyright protection. Although the cases were never resolved i',\n",
       " 'the Supreme Court of the United States, FareChase was eventually shuttered by parent company Yahoo!, and Outtask was purchased by travel expense company Concur.[14] I',\n",
       " '2012, a startup called 3Taps scraped classified housing ads from Craigslist. Craigslist sent 3Taps a cease-and-desist letter and blocked their IP addresses and later sued, i',\n",
       " 'Craigslist v. 3Taps. The court held that the cease-and-desist letter and IP blocking was sufficient for Craigslist to properly claim that 3Taps had violated the Computer Fraud a',\n",
       " 'd Abuse Act (CFAA).\\n\\nAlthough these are early scraping decisions, and the theories of liability are not uniform, it is difficult to ignore a pattern emergi',\n",
       " 'g that the courts are prepared to protect proprietary content on commercial sites from uses which are undesirable to the owners of such sites. However, the degree of protection for such content is',\n",
       " \"ot settled and will depend on the type of access made by the scraper, the amount of information accessed and copied, the degree to which the access adversely affects the site owner's system a\",\n",
       " 'd the types and maner of prohibitions on such conduct.[15]\\n\\nWhile the law in this area becomes more settled, entities contemplating using scraping programs to access a public web site should also co',\n",
       " 'sider whether such action is authorized by reviewing the terms of use and other terms or notices posted on or made available through the site. In Cvent Inc. v. Eventbrite Inc. (2010), the U',\n",
       " \"ited States district court for the eastern district of Virginia, ruled that the terms of use should be brought to the users' attention in order for a browsewrap contract or license to be e\",\n",
       " 'forceable.[16] In a 2014 case, filed in the United States District Court for the Eastern District of Pensylvania,[17] e-commerce site QVC objected to the Pinterest-like shoppi',\n",
       " 'g aggregator Resultly\\'s \\'scraping of QVC\\'s site for real-time pricing data. QVC alleges that Resultly \"excessively crawled\" QVC\\'s retail site (allegedly sendi',\n",
       " \"g 200-300 search requests to QVC's website per minute, sometimes to up to 36,000 requests per minute) which caused QVC's site to crash for two days, resulting in lost sales for QVC.[18] QVC's complai\",\n",
       " 't alleges that the defendant disguised its web crawler to mask its source IP address and thus prevented QVC from quickly repairing the problem. This is a particularly interesting scrapi',\n",
       " \"g case because QVC is seeking damages for the unavailability of their website, which QVC claims was caused by Resultly.\\n\\nIn the plaintiff's web site duri\",\n",
       " 'g the period of this trial, the terms of use link are displayed among all the links of the site, at the bottom of the page as most sites on the internet. This ruling contradicts the Irish ruli',\n",
       " \"g described below. The court also rejected the plaintiff's argument that the browse-wrap restrictions were enforceable in view of Virginia's adoption of the Uniform Computer Information Transactio\",\n",
       " 's Act (UCITA)—a uniform law that many believed was in favor on common browse-wrap contracting practices.[19]\\n\\nIn Facebook, Inc. v. Power Ventures, Inc., a district court ruled in 2012 that Power Ve',\n",
       " 'tures could not scrape Facebook pages on behalf of a Facebook user. The case is on appeal, and the Electronic Frontier Foundation filed a brief in 2015 asking that it be overturned.[20][21] I',\n",
       " 'Associated Press v. Meltwater U.S. Holdings, Inc., a court in the US held Meltwater liable for scraping and republishing news information from the Associated Press, but a court in the United Ki',\n",
       " 'gdom held in favor of Meltwater.\\n\\nThe Ninth Circuit ruled in 2019 that web scraping did not violate the CFAA in hiQ Labs v. LinkedIn. The case was appealed to the U',\n",
       " 'ited States Supreme Court, which returned the case to the Ninth Circuit to reconsider the case in light of the 2021 Supreme Court decision in Van Buren v. United States which',\n",
       " 'arrowed the applicability of the CFAA.[22] On this review, the Ninth Circuit upheld their prior decision.[23]\\n\\nInternet Archive collects and distributes a significant',\n",
       " 'umber of publicly available web pages without being considered to be in violation of copyright laws.[citation needed]\\n\\nEuropean Union\\n\\n[edit]\\n\\nIn February 2006, the Danish Maritime a',\n",
       " 'd Commercial Court (Copenhagen) ruled that systematic crawling, indexing, and deep linking by portal site ofir.dk of real estate site Home.dk does not conflict with Da',\n",
       " \"ish law or the database directive of the European Union.[24]\\n\\nIn a February 2010 case complicated by matters of jurisdiction, Ireland's High Court delivered a verdict that illustrates the i\",\n",
       " 'choate state of developing case law. In the case of Ryanair Ltd v Billigfluege.de GmbH, Ireland\\'s High Court ruled Ryanair\\'s \"click-wrap\" agreement to be legally binding. In contrast to the findi',\n",
       " \"gs of the United States District Court Eastern District of Virginia and those of the Danish Maritime and Commercial Court, Justice Michael Hana ruled that the hyperlink to Ryanair's terms and conditio\",\n",
       " 's was plainly visible, and that placing the onus on the user to agree to terms and conditions in order to gain access to online services is sufficient to comprise a contractual relatio',\n",
       " \"ship.[25] The decision is under appeal in Ireland's Supreme Court.[26]\\n\\nOn April 30, 2020, the French Data Protection Authority (CNIL) released new guidelines on web scraping.[27] The CNIL guideli\",\n",
       " 'es made it clear that publicly available data is still personal data and canot be repurposed without the knowledge of the person to whom that data belongs.[28]\\n\\nAustralia\\n\\n[edit]\\n\\nI',\n",
       " 'Australia, the Spam Act 2003 outlaws some forms of web harvesting, although this only applies to email addresses.[29][30]\\n\\nIndia\\n\\n[edit]\\n\\nLeaving a few cases dealing with IPR infringement, India',\n",
       " 'courts have not expressly ruled on the legality of web scraping. However, since all common forms of electronic contracts are enforceable in India, violating the terms of use prohibiting data scrapi',\n",
       " 'g will be a violation of the contract law. It will also violate the Information Technology Act, 2000, which penalizes unauthorized access to a computer resource or extracti',\n",
       " 'g data from a computer resource.\\n\\nMethods to prevent web scraping\\n\\n[edit]\\n\\nThe administrator of a website can use various measures to stop or slow a bot. Some techniques include:\\n\\nBlocking a',\n",
       " 'IP address either manually or based on criteria such as geolocation and DNSRBL. This will also block all browsing from that address.\\n\\nDisabling a',\n",
       " \"y web service API that the website's system might expose.\\n\\nBots sometimes declare who they are (using user agent strings) and can be blocked on that basis using robots.txt; 'googlebot' is a\",\n",
       " 'example. Other bots make no distinction between themselves and a human using a browser.\\n\\nBots can be blocked by monitoring excess traffic.\\n\\nBots ca',\n",
       " 'sometimes be blocked with tools to verify that it is a real person accessing the site, like a CAPTCHA. Bots are sometimes coded to explicitly break specific CAPTCHA patter',\n",
       " 's or may employ third-party services that utilize human labor to read and respond in real-time to CAPTCHA challenges. They can be triggered because the bot is: 1) making too many requests i',\n",
       " 'a short time, 2) using low-quality proxies, or 3) not covering the web scraper’s fingerprint properly.[31]\\n\\nCommercial anti-bot services: Companies offer anti-bot and anti-scrapi',\n",
       " 'g services for websites. A few web application firewalls have limited bot detection capabilities as well. However, many such solutions are not very effective.[32]\\n\\nLocating bots with a ho',\n",
       " 'eypot or other method to identify the IP addresses of automated crawlers.\\n\\nObfuscation using CSS sprites to display such data as telephone',\n",
       " 'umbers or email addresses, at the cost of accessibility to screen reader users.\\n\\nBecause bots rely on consistency in the front-end code of a target website, adding small variatio',\n",
       " 's to the HTML/CSS surrounding important data and navigation elements would require more human involvement in the initial set up of a bot and if done effectively may re',\n",
       " 'der the target website too difficult to scrape due to the diminished ability to automate the scraping process.\\n\\nWebsites can declare if crawling is allowed or not in the robots.txt file a',\n",
       " 'd allow partial access, limit the crawl rate, specify the optimal time to crawl and more.\\n\\nSee also\\n\\n[edit]\\n\\nArchive.today\\n\\nComparison of feed aggregators\\n\\nData scraping\\n\\nData wrangli',\n",
       " 'g\\n\\nImporter\\n\\nJob wrapping\\n\\nKnowledge extraction\\n\\nOpenSocial\\n\\nScraper site\\n\\nFake news website\\n\\nSpamdexing\\n\\nDomain name drop list\\n\\nText corpus\\n\\nWeb archiving\\n\\nWeb crawler\\n\\nOffline reader\\n\\nLi',\n",
       " 'k farm (blog network)\\n\\nSearch engine scraping\\n\\nWeb crawlers\\n\\nReferences\\n\\n[edit]\\n\\n^ Thapelo, Tsaone Swaabow; Namoshe, Molaletsa; Matsebe, Oduetse; Motshegwa, Tshiamo; Bopape, Mary-Jane Moro',\n",
       " 'gwa (2021-07-28). \"SASSCAL WebSAPI: A Web Scraping Application Programming Interface to Support Access to SASSCAL\\'s Weather Data\". Data Science Jour',\n",
       " 'al. 20: 24. doi:10.5334/dsj-2021-024. ISSN 1683-1470. S2CID 237719804.\\n\\n^ \"Search Engine History.com\". Search Engine History. Retrieved November 26, 2019.\\n\\n^ \"eBay, API\\'s, and the Co',\n",
       " 'ected Web\". THE HISTORY OF THE WEB. Retrieved June 23, 2025.\\n\\n^ Song, Ruihua; Microsoft Research (Sep 14, 2007). \"Joint optimization of wrapper generation and template detection\" (PDF). Proceedi',\n",
       " 'gs of the 13th ACM SIGKDD international conference on Knowledge discovery and data mining. p. 894. doi:10.1145/1281192.1281287. ISBN 9781595936097. S2CID 833565. Archived from the original (PDF) o',\n",
       " 'October 11, 2016.\\n\\n^ Semantic anotation based web scraping\\n\\n^ Roush, Wade (2012-07-25). \"Diffbot Is Using Computer Vision to Reinvent the Semantic Web\". www.xco',\n",
       " 'omy.com. Retrieved 2013-03-15.\\n\\n^ \"FAQ about linking – Are website terms of use binding contracts?\". www.chillingeffects.org. 2007-08-20. Archived from the original o',\n",
       " '2002-03-08. Retrieved 2007-08-20.\\n\\n^ Keneth, Hirschey, Jeffrey (2014-01-01). \"Symbiotic Relationships: Pragmatic Acceptance of Data Scraping\". Berkeley Technology Law Jour',\n",
       " 'al. 29 (4). doi:10.15779/Z38B39B. ISSN 1086-3818.{{cite journal}}: CS1 maint: multiple names: authors list (link)\\n\\n^ \"Inter',\n",
       " 'et Law, Ch. 06: Trespass to Chattels\". www.tomwbell.com. 2007-08-20. Retrieved 2007-08-20.\\n\\n^ \"What are the \"trespass to chattels\" claims some companies or website owners have brought?\". www.chilli',\n",
       " 'geffects.org. 2007-08-20. Archived from the original on 2002-03-08. Retrieved 2007-08-20.\\n\\n^ \"Ticketmaster Corp. v. Tickets.com, Inc\". 2007-08-20. Retrieved 2007-08-20.\\n\\n^ \"American Airli',\n",
       " 'es v. FareChase\" (PDF). 2007-08-20. Archived from the original (PDF) on 2011-07-23. Retrieved 2007-08-20.\\n\\n^ \"American Airli',\n",
       " 'es, FareChase Settle Suit\". The Free Library. 2003-06-13. Archived from the original on 2016-03-05. Retrieved 2012-02-26.\\n\\n^ Imperva (2011). Detecting and Blocking Site Scrapi',\n",
       " 'g Attacks. Imperva white paper.\\n\\n^ Adler, Keneth A. (2003-07-29). \"Controversy Surrounds \\'Screen Scrapers\\': Software Helps Users Access Web Sites But Activity by Competitors Comes Under Scruti',\n",
       " 'y\". Archived from the original on 2011-02-11. Retrieved 2010-10-27.\\n\\n^ \"CVENT, Inc. v. Eventbrite, Inc.,et al\" (PDF). 2014-11-24. Archived from the original (PDF) o',\n",
       " '2013-09-21. Retrieved 2015-11-05.\\n\\n^ \"QVC Inc. v. Resultly LLC, No. 14-06714 (E.D. Pa. filed Nov. 24, 2014)\". United States District Court for the Eastern District of Pensylva',\n",
       " 'ia. Retrieved 5 November 2015.\\n\\n^ Neuburger, Jeffrey D (5 December 2014). \"QVC Sues Shopping App for Web Scraping That Allegedly Triggered Site Outage\". The Natio',\n",
       " 'al Law Review. Proskauer Rose LLP. Retrieved 5 November 2015.\\n\\n^ \"Did Iqbal/Twombly Raise the Bar for Browsewrap Claims?\" (PDF). 2010-09-17. Archived from the original (PDF) o',\n",
       " '2011-07-23. Retrieved 2010-10-27.\\n\\n^ \"Can Scraping Non-Infringing Content Become Copyright Infringeme',\n",
       " 't... Because Of How Scrapers Work? | Techdirt\". Techdirt. 2009-06-10. Retrieved 2016-05-24.\\n\\n^ \"Facebook v. Power Ventures\". Electronic Frontier Foundation. July 2011. Retrieved 2016-05-24.\\n\\n^ Chu',\n",
       " 'g, Andrew (June 14, 2021). \"U.S. Supreme Court revives LinkedIn bid to shield personal data\". Reuters. Retrieved June 14, 2021.\\n\\n^ Whittaker, Zack (18 April 2022). \"Web scrapi',\n",
       " 'g is legal, US appeals court reaffirms\". TechCrunch.\\n\\n^ \"UDSKRIFT AF SØ- & HANDELSRETTENS DOMBOG\" (PDF) (in Danish). bvhd.dk. 2006-02-24. Archived from the original (PDF) o',\n",
       " '2007-10-12. Retrieved 2007-05-30.\\n\\n^ \"High Court of Ireland Decisions >> Ryanair Ltd -v- Billigfluege.de GMBH 2010 IEHC 47 (26 February 2010)\". British and Irish Legal Information I',\n",
       " 'stitute. 2010-02-26. Retrieved 2012-04-19.\\n\\n^ Matthews, Áine (June 2010). \"Intellectual Property: Website Terms of Use\". Issue 26: Ju',\n",
       " 'e 2010. LK Shields Solicitors Update. p. 03. Archived from the original on 2012-06-24. Retrieved 2012-04-19.\\n\\n^ \"La réutilisation des donées publiquement accessibles en ligne à des fi',\n",
       " 's de démarchage commercial | CNIL\". www.cnil.fr (in French). Retrieved 2020-07-05.\\n\\n^ FindDataLab.com (2020-06-09). \"Can You Still Perform Web Scraping With The New CNIL Guideli',\n",
       " 'es?\". Medium. Retrieved 2020-07-05.\\n\\n^ National Office for the Information Economy (February 2004). \"Spam Act 2003: An overview for business\". Australian Communicatio',\n",
       " 's Authority. p. 6. Archived from the original on 2019-12-03. Retrieved 2017-12-07.\\n\\n^ National Office for the Information Economy (February 2004). \"Spam Act 2003: A practical guide for busi',\n",
       " 'ess\" (PDF). Australian Communications Authority. p. 20. Retrieved 2017-12-07.\\n\\n^ \"Web Scraping for Beginers: A Guide 2024\". Proxyway. 2023-08-31. Retrieved 2024-03-15.\\n\\n^ Mayank Dhiman Breaki',\n",
       " 'g Fraud & Bot Detection Solutions OWASP AppSec Cali\\' 2018 Retrieved February 10, 2018.\\n\\nRetrieved from \"https://en.wikipedia.org/w/index.php?title=Web_scraping&oldid=1297146564\"\\n\\nCategory:\\n\\nWeb scrapi',\n",
       " 'g\\n\\nHidden categories:\\n\\nCS1 maint: multiple names: authors list\\n\\nCS1 Danish-language sources (da)\\n\\nCS1 French-language sources (fr)\\n\\nArticles with short description\\n\\nShort descriptio',\n",
       " 'matches Wikidata\\n\\nArticles needing additional references from April 2023\\n\\nAll articles needing additional references\\n\\nArticles with limited geographic scope from October 2015\\n\\nUnited States-ce',\n",
       " 'tric\\n\\nAll articles with unsourced statements\\n\\nArticles with unsourced statements from April 2023']"
      ]
     },
     "execution_count": 24,
     "metadata": {},
     "output_type": "execute_result"
    }
   ],
   "source": [
    "webchunks"
   ]
  },
  {
   "cell_type": "code",
   "execution_count": 25,
   "id": "3d100756-d476-422f-ad63-7dfedce4469a",
   "metadata": {},
   "outputs": [],
   "source": [
    "from langchain.text_splitter import RecursiveCharacterTextSplitter\n",
    "recursiveSpillter = RecursiveCharacterTextSplitter(\n",
    "    separators = [\"\\n\\n\" , \"\\n\", \" \"],\n",
    "    chunk_size=200,\n",
    "    chunk_overlap=0,\n",
    "\n",
    ")\n",
    " \n",
    " \n",
    " "
   ]
  },
  {
   "cell_type": "code",
   "execution_count": 26,
   "id": "48ebee3a-26fb-4df0-811e-19a5733efdd0",
   "metadata": {},
   "outputs": [],
   "source": [
    "from langchain.text_splitter import RecursiveCharacterTextSplitter\n",
    "recursiveSpillter = RecursiveCharacterTextSplitter(\n",
    "    separators = [\"\\n\\n\" , \"\\n\", \" \"],\n",
    "    chunk_size=200,\n",
    "    chunk_overlap=0,\n",
    "\n",
    ")\n",
    " \n",
    " \n",
    " "
   ]
  },
  {
   "cell_type": "code",
   "execution_count": 27,
   "id": "f43ed849-78f2-4a02-a7ea-131bdd8abd0a",
   "metadata": {},
   "outputs": [],
   "source": [
    "recursiveWebChunk = recursiveSpillter.split_text(wikiepediaData[0].page_content)\n",
    "recusresiveNewsChunk = recursiveSpillter.split_text(newsData[0].page_content)"
   ]
  },
  {
   "cell_type": "code",
   "execution_count": 28,
   "id": "07d340ed-6ec4-4b40-b629-a7810152f44c",
   "metadata": {
    "scrolled": true
   },
   "outputs": [
    {
     "name": "stdout",
     "output_type": "stream",
     "text": [
      "Requirement already satisfied: faiss-cpu in ./venv/lib/python3.13/site-packages (1.12.0)\n",
      "Requirement already satisfied: sentence-transformers in ./venv/lib/python3.13/site-packages (5.1.0)\n",
      "Requirement already satisfied: pandas in ./venv/lib/python3.13/site-packages (2.3.2)\n",
      "Requirement already satisfied: numpy<3.0,>=1.25.0 in ./venv/lib/python3.13/site-packages (from faiss-cpu) (2.3.2)\n",
      "Requirement already satisfied: packaging in ./venv/lib/python3.13/site-packages (from faiss-cpu) (25.0)\n",
      "Requirement already satisfied: transformers<5.0.0,>=4.41.0 in ./venv/lib/python3.13/site-packages (from sentence-transformers) (4.55.3)\n",
      "Requirement already satisfied: tqdm in ./venv/lib/python3.13/site-packages (from sentence-transformers) (4.67.1)\n",
      "Requirement already satisfied: torch>=1.11.0 in ./venv/lib/python3.13/site-packages (from sentence-transformers) (2.8.0)\n",
      "Requirement already satisfied: scikit-learn in ./venv/lib/python3.13/site-packages (from sentence-transformers) (1.7.1)\n",
      "Requirement already satisfied: scipy in ./venv/lib/python3.13/site-packages (from sentence-transformers) (1.16.1)\n",
      "Requirement already satisfied: huggingface-hub>=0.20.0 in ./venv/lib/python3.13/site-packages (from sentence-transformers) (0.34.4)\n",
      "Requirement already satisfied: Pillow in ./venv/lib/python3.13/site-packages (from sentence-transformers) (11.3.0)\n",
      "Requirement already satisfied: typing_extensions>=4.5.0 in ./venv/lib/python3.13/site-packages (from sentence-transformers) (4.14.1)\n",
      "Requirement already satisfied: filelock in ./venv/lib/python3.13/site-packages (from transformers<5.0.0,>=4.41.0->sentence-transformers) (3.19.1)\n",
      "Requirement already satisfied: pyyaml>=5.1 in ./venv/lib/python3.13/site-packages (from transformers<5.0.0,>=4.41.0->sentence-transformers) (6.0.2)\n",
      "Requirement already satisfied: regex!=2019.12.17 in ./venv/lib/python3.13/site-packages (from transformers<5.0.0,>=4.41.0->sentence-transformers) (2025.7.34)\n",
      "Requirement already satisfied: requests in ./venv/lib/python3.13/site-packages (from transformers<5.0.0,>=4.41.0->sentence-transformers) (2.32.5)\n",
      "Requirement already satisfied: tokenizers<0.22,>=0.21 in ./venv/lib/python3.13/site-packages (from transformers<5.0.0,>=4.41.0->sentence-transformers) (0.21.4)\n",
      "Requirement already satisfied: safetensors>=0.4.3 in ./venv/lib/python3.13/site-packages (from transformers<5.0.0,>=4.41.0->sentence-transformers) (0.6.2)\n",
      "Requirement already satisfied: fsspec>=2023.5.0 in ./venv/lib/python3.13/site-packages (from huggingface-hub>=0.20.0->sentence-transformers) (2025.7.0)\n",
      "Requirement already satisfied: hf-xet<2.0.0,>=1.1.3 in ./venv/lib/python3.13/site-packages (from huggingface-hub>=0.20.0->sentence-transformers) (1.1.8)\n",
      "Requirement already satisfied: python-dateutil>=2.8.2 in ./venv/lib/python3.13/site-packages (from pandas) (2.9.0.post0)\n",
      "Requirement already satisfied: pytz>=2020.1 in ./venv/lib/python3.13/site-packages (from pandas) (2025.2)\n",
      "Requirement already satisfied: tzdata>=2022.7 in ./venv/lib/python3.13/site-packages (from pandas) (2025.2)\n",
      "Requirement already satisfied: six>=1.5 in ./venv/lib/python3.13/site-packages (from python-dateutil>=2.8.2->pandas) (1.17.0)\n",
      "Requirement already satisfied: setuptools in ./venv/lib/python3.13/site-packages (from torch>=1.11.0->sentence-transformers) (80.9.0)\n",
      "Requirement already satisfied: sympy>=1.13.3 in ./venv/lib/python3.13/site-packages (from torch>=1.11.0->sentence-transformers) (1.14.0)\n",
      "Requirement already satisfied: networkx in ./venv/lib/python3.13/site-packages (from torch>=1.11.0->sentence-transformers) (3.5)\n",
      "Requirement already satisfied: jinja2 in ./venv/lib/python3.13/site-packages (from torch>=1.11.0->sentence-transformers) (3.1.6)\n",
      "Requirement already satisfied: mpmath<1.4,>=1.1.0 in ./venv/lib/python3.13/site-packages (from sympy>=1.13.3->torch>=1.11.0->sentence-transformers) (1.3.0)\n",
      "Requirement already satisfied: MarkupSafe>=2.0 in ./venv/lib/python3.13/site-packages (from jinja2->torch>=1.11.0->sentence-transformers) (3.0.2)\n",
      "Requirement already satisfied: charset_normalizer<4,>=2 in ./venv/lib/python3.13/site-packages (from requests->transformers<5.0.0,>=4.41.0->sentence-transformers) (3.4.3)\n",
      "Requirement already satisfied: idna<4,>=2.5 in ./venv/lib/python3.13/site-packages (from requests->transformers<5.0.0,>=4.41.0->sentence-transformers) (3.10)\n",
      "Requirement already satisfied: urllib3<3,>=1.21.1 in ./venv/lib/python3.13/site-packages (from requests->transformers<5.0.0,>=4.41.0->sentence-transformers) (2.5.0)\n",
      "Requirement already satisfied: certifi>=2017.4.17 in ./venv/lib/python3.13/site-packages (from requests->transformers<5.0.0,>=4.41.0->sentence-transformers) (2025.8.3)\n",
      "Requirement already satisfied: joblib>=1.2.0 in ./venv/lib/python3.13/site-packages (from scikit-learn->sentence-transformers) (1.5.1)\n",
      "Requirement already satisfied: threadpoolctl>=3.1.0 in ./venv/lib/python3.13/site-packages (from scikit-learn->sentence-transformers) (3.6.0)\n"
     ]
    }
   ],
   "source": [
    "!pip install faiss-cpu sentence-transformers pandas"
   ]
  },
  {
   "cell_type": "code",
   "execution_count": 29,
   "id": "12914867-172d-469a-bb51-20b6294fb620",
   "metadata": {
    "scrolled": true
   },
   "outputs": [
    {
     "name": "stdout",
     "output_type": "stream",
     "text": [
      "Requirement already satisfied: faiss-cpu in ./venv/lib/python3.13/site-packages (1.12.0)\n",
      "Requirement already satisfied: sentence-transformers in ./venv/lib/python3.13/site-packages (5.1.0)\n",
      "Requirement already satisfied: pandas in ./venv/lib/python3.13/site-packages (2.3.2)\n",
      "Requirement already satisfied: numpy<3.0,>=1.25.0 in ./venv/lib/python3.13/site-packages (from faiss-cpu) (2.3.2)\n",
      "Requirement already satisfied: packaging in ./venv/lib/python3.13/site-packages (from faiss-cpu) (25.0)\n",
      "Requirement already satisfied: transformers<5.0.0,>=4.41.0 in ./venv/lib/python3.13/site-packages (from sentence-transformers) (4.55.3)\n",
      "Requirement already satisfied: tqdm in ./venv/lib/python3.13/site-packages (from sentence-transformers) (4.67.1)\n",
      "Requirement already satisfied: torch>=1.11.0 in ./venv/lib/python3.13/site-packages (from sentence-transformers) (2.8.0)\n",
      "Requirement already satisfied: scikit-learn in ./venv/lib/python3.13/site-packages (from sentence-transformers) (1.7.1)\n",
      "Requirement already satisfied: scipy in ./venv/lib/python3.13/site-packages (from sentence-transformers) (1.16.1)\n",
      "Requirement already satisfied: huggingface-hub>=0.20.0 in ./venv/lib/python3.13/site-packages (from sentence-transformers) (0.34.4)\n",
      "Requirement already satisfied: Pillow in ./venv/lib/python3.13/site-packages (from sentence-transformers) (11.3.0)\n",
      "Requirement already satisfied: typing_extensions>=4.5.0 in ./venv/lib/python3.13/site-packages (from sentence-transformers) (4.14.1)\n",
      "Requirement already satisfied: filelock in ./venv/lib/python3.13/site-packages (from transformers<5.0.0,>=4.41.0->sentence-transformers) (3.19.1)\n",
      "Requirement already satisfied: pyyaml>=5.1 in ./venv/lib/python3.13/site-packages (from transformers<5.0.0,>=4.41.0->sentence-transformers) (6.0.2)\n",
      "Requirement already satisfied: regex!=2019.12.17 in ./venv/lib/python3.13/site-packages (from transformers<5.0.0,>=4.41.0->sentence-transformers) (2025.7.34)\n",
      "Requirement already satisfied: requests in ./venv/lib/python3.13/site-packages (from transformers<5.0.0,>=4.41.0->sentence-transformers) (2.32.5)\n",
      "Requirement already satisfied: tokenizers<0.22,>=0.21 in ./venv/lib/python3.13/site-packages (from transformers<5.0.0,>=4.41.0->sentence-transformers) (0.21.4)\n",
      "Requirement already satisfied: safetensors>=0.4.3 in ./venv/lib/python3.13/site-packages (from transformers<5.0.0,>=4.41.0->sentence-transformers) (0.6.2)\n",
      "Requirement already satisfied: fsspec>=2023.5.0 in ./venv/lib/python3.13/site-packages (from huggingface-hub>=0.20.0->sentence-transformers) (2025.7.0)\n",
      "Requirement already satisfied: hf-xet<2.0.0,>=1.1.3 in ./venv/lib/python3.13/site-packages (from huggingface-hub>=0.20.0->sentence-transformers) (1.1.8)\n",
      "Requirement already satisfied: python-dateutil>=2.8.2 in ./venv/lib/python3.13/site-packages (from pandas) (2.9.0.post0)\n",
      "Requirement already satisfied: pytz>=2020.1 in ./venv/lib/python3.13/site-packages (from pandas) (2025.2)\n",
      "Requirement already satisfied: tzdata>=2022.7 in ./venv/lib/python3.13/site-packages (from pandas) (2025.2)\n",
      "Requirement already satisfied: six>=1.5 in ./venv/lib/python3.13/site-packages (from python-dateutil>=2.8.2->pandas) (1.17.0)\n",
      "Requirement already satisfied: setuptools in ./venv/lib/python3.13/site-packages (from torch>=1.11.0->sentence-transformers) (80.9.0)\n",
      "Requirement already satisfied: sympy>=1.13.3 in ./venv/lib/python3.13/site-packages (from torch>=1.11.0->sentence-transformers) (1.14.0)\n",
      "Requirement already satisfied: networkx in ./venv/lib/python3.13/site-packages (from torch>=1.11.0->sentence-transformers) (3.5)\n",
      "Requirement already satisfied: jinja2 in ./venv/lib/python3.13/site-packages (from torch>=1.11.0->sentence-transformers) (3.1.6)\n",
      "Requirement already satisfied: mpmath<1.4,>=1.1.0 in ./venv/lib/python3.13/site-packages (from sympy>=1.13.3->torch>=1.11.0->sentence-transformers) (1.3.0)\n",
      "Requirement already satisfied: MarkupSafe>=2.0 in ./venv/lib/python3.13/site-packages (from jinja2->torch>=1.11.0->sentence-transformers) (3.0.2)\n",
      "Requirement already satisfied: charset_normalizer<4,>=2 in ./venv/lib/python3.13/site-packages (from requests->transformers<5.0.0,>=4.41.0->sentence-transformers) (3.4.3)\n",
      "Requirement already satisfied: idna<4,>=2.5 in ./venv/lib/python3.13/site-packages (from requests->transformers<5.0.0,>=4.41.0->sentence-transformers) (3.10)\n",
      "Requirement already satisfied: urllib3<3,>=1.21.1 in ./venv/lib/python3.13/site-packages (from requests->transformers<5.0.0,>=4.41.0->sentence-transformers) (2.5.0)\n",
      "Requirement already satisfied: certifi>=2017.4.17 in ./venv/lib/python3.13/site-packages (from requests->transformers<5.0.0,>=4.41.0->sentence-transformers) (2025.8.3)\n",
      "Requirement already satisfied: joblib>=1.2.0 in ./venv/lib/python3.13/site-packages (from scikit-learn->sentence-transformers) (1.5.1)\n",
      "Requirement already satisfied: threadpoolctl>=3.1.0 in ./venv/lib/python3.13/site-packages (from scikit-learn->sentence-transformers) (3.6.0)\n"
     ]
    }
   ],
   "source": [
    "!pip install faiss-cpu sentence-transformers pandas"
   ]
  },
  {
   "cell_type": "code",
   "execution_count": 30,
   "id": "c60fe2c3-2699-411e-950b-93faaf7c8b76",
   "metadata": {
    "scrolled": true
   },
   "outputs": [
    {
     "data": {
      "text/plain": [
       "173"
      ]
     },
     "execution_count": 30,
     "metadata": {},
     "output_type": "execute_result"
    }
   ],
   "source": [
    "len(recursiveWebChunk)"
   ]
  },
  {
   "cell_type": "code",
   "execution_count": 60,
   "id": "91c48dce-8c00-4c9c-9e26-8077f101ae80",
   "metadata": {},
   "outputs": [
    {
     "name": "stderr",
     "output_type": "stream",
     "text": [
      "huggingface/tokenizers: The current process just got forked, after parallelism has already been used. Disabling parallelism to avoid deadlocks...\n",
      "To disable this warning, you can either:\n",
      "\t- Avoid using `tokenizers` before the fork if possible\n",
      "\t- Explicitly set the environment variable TOKENIZERS_PARALLELISM=(true | false)\n"
     ]
    },
    {
     "name": "stdout",
     "output_type": "stream",
     "text": [
      "Requirement already satisfied: jupyterlab-widgets in ./venv/lib/python3.13/site-packages (3.0.15)\n"
     ]
    }
   ],
   "source": [
    "!pip install --upgrade jupyterlab-widgets"
   ]
  },
  {
   "cell_type": "code",
   "execution_count": 32,
   "id": "213e0cbd-dd1a-474f-8c0f-2e831f4064a0",
   "metadata": {},
   "outputs": [],
   "source": [
    "import pandas as pd\n",
    "\n",
    "\n",
    "pd.set_option('display.max_colwidth',100)\n"
   ]
  },
  {
   "cell_type": "code",
   "execution_count": 33,
   "id": "5bd6524d-2142-4e72-a46f-9ddfe14f35c1",
   "metadata": {},
   "outputs": [],
   "source": [
    "df= pd.read_csv(\"sample_text.csv\")"
   ]
  },
  {
   "cell_type": "code",
   "execution_count": 34,
   "id": "0924279a-4463-4c47-9030-6d0f5df102d4",
   "metadata": {},
   "outputs": [
    {
     "data": {
      "text/plain": [
       "(8, 2)"
      ]
     },
     "execution_count": 34,
     "metadata": {},
     "output_type": "execute_result"
    }
   ],
   "source": [
    "df.shape"
   ]
  },
  {
   "cell_type": "code",
   "execution_count": 35,
   "id": "23fed6ac-6504-4b41-b715-8abe0134fff9",
   "metadata": {},
   "outputs": [],
   "source": [
    "# Create a DataFrame with the list as a single column\n",
    "recursivedf = pd.DataFrame(recursiveWebChunk, columns=['text_chunks'])\n",
    "\n",
    "# Or if you want each string as a separate row\n",
    "recursivedf = pd.DataFrame({'chunks': recursiveWebChunk})\n",
    "recusresiveNewsChunkdf = pd.DataFrame({'chunks': recusresiveNewsChunk})\n"
   ]
  },
  {
   "cell_type": "code",
   "execution_count": 36,
   "id": "91d7d7e0-6c36-4602-aee8-4e92d85a3a43",
   "metadata": {},
   "outputs": [
    {
     "data": {
      "text/html": [
       "<div>\n",
       "<style scoped>\n",
       "    .dataframe tbody tr th:only-of-type {\n",
       "        vertical-align: middle;\n",
       "    }\n",
       "\n",
       "    .dataframe tbody tr th {\n",
       "        vertical-align: top;\n",
       "    }\n",
       "\n",
       "    .dataframe thead th {\n",
       "        text-align: right;\n",
       "    }\n",
       "</style>\n",
       "<table border=\"1\" class=\"dataframe\">\n",
       "  <thead>\n",
       "    <tr style=\"text-align: right;\">\n",
       "      <th></th>\n",
       "      <th>chunks</th>\n",
       "    </tr>\n",
       "  </thead>\n",
       "  <tbody>\n",
       "    <tr>\n",
       "      <th>0</th>\n",
       "      <td>The stock of NVIDIA Corp (NASDAQ:NVDA) experienced a daily loss of -3.56% and a 3-month gain of ...</td>\n",
       "    </tr>\n",
       "    <tr>\n",
       "      <th>1</th>\n",
       "      <td>overvalued? This article aims to provide a detailed valuation analysis of NVIDIA, offering insig...</td>\n",
       "    </tr>\n",
       "    <tr>\n",
       "      <th>2</th>\n",
       "      <td>comprehensive analysis.</td>\n",
       "    </tr>\n",
       "    <tr>\n",
       "      <th>3</th>\n",
       "      <td>Company Overview\\nWarning! GuruFocus has detected 10 Warning Signs with NVDA. Click here to chec...</td>\n",
       "    </tr>\n",
       "    <tr>\n",
       "      <th>4</th>\n",
       "      <td>NVIDIA Corp (NASDAQ:NVDA) is a leading designer of discrete graphics processing units that enhan...</td>\n",
       "    </tr>\n",
       "    <tr>\n",
       "      <th>5</th>\n",
       "      <td>including PC gaming and data centers. In recent years, NVIDIA has broadened its focus from tradi...</td>\n",
       "    </tr>\n",
       "    <tr>\n",
       "      <th>6</th>\n",
       "      <td>artificial intelligence and autonomous driving, leveraging the high-performance capabilities of ...</td>\n",
       "    </tr>\n",
       "    <tr>\n",
       "      <th>7</th>\n",
       "      <td>Currently, NVIDIA's stock price stands at $418.01, significantly higher than the GF Value of $31...</td>\n",
       "    </tr>\n",
       "    <tr>\n",
       "      <th>8</th>\n",
       "      <td>steep. The following analysis aims to delve deeper into the company's value.</td>\n",
       "    </tr>\n",
       "    <tr>\n",
       "      <th>9</th>\n",
       "      <td>Is NVIDIA's Stock Significantly Overvalued? A Comprehensive Valuation Analysis\\nIs NVIDIA's Stoc...</td>\n",
       "    </tr>\n",
       "    <tr>\n",
       "      <th>10</th>\n",
       "      <td>The GF Value is a unique measure of the intrinsic value of a stock, calculated based on historic...</td>\n",
       "    </tr>\n",
       "    <tr>\n",
       "      <th>11</th>\n",
       "      <td>stock price is significantly above the GF Value Line, it is overvalued, and its future return is...</td>\n",
       "    </tr>\n",
       "    <tr>\n",
       "      <th>12</th>\n",
       "      <td>likely be higher.</td>\n",
       "    </tr>\n",
       "    <tr>\n",
       "      <th>13</th>\n",
       "      <td>According to GuruFocus Value calculation, NVIDIA (NASDAQ:NVDA) appears to be significantly overv...</td>\n",
       "    </tr>\n",
       "    <tr>\n",
       "      <th>14</th>\n",
       "      <td>strengthen this assumption.</td>\n",
       "    </tr>\n",
       "    <tr>\n",
       "      <th>15</th>\n",
       "      <td>Given that NVIDIA is significantly overvalued, the long-term return of its stock is likely to be...</td>\n",
       "    </tr>\n",
       "    <tr>\n",
       "      <th>16</th>\n",
       "      <td>Is NVIDIA's Stock Significantly Overvalued? A Comprehensive Valuation Analysis\\nIs NVIDIA's Stoc...</td>\n",
       "    </tr>\n",
       "    <tr>\n",
       "      <th>17</th>\n",
       "      <td>Link: These companies may deliver higher future returns at reduced risk.</td>\n",
       "    </tr>\n",
       "    <tr>\n",
       "      <th>18</th>\n",
       "      <td>Financial Strength of NVIDIA</td>\n",
       "    </tr>\n",
       "    <tr>\n",
       "      <th>19</th>\n",
       "      <td>Examining the financial strength of a company is crucial before investing in its stock. Companie...</td>\n",
       "    </tr>\n",
       "    <tr>\n",
       "      <th>20</th>\n",
       "      <td>1.27 is worse than 58.04% of companies in the Semiconductors industry. However, NVIDIA's overall...</td>\n",
       "    </tr>\n",
       "    <tr>\n",
       "      <th>21</th>\n",
       "      <td>Is NVIDIA's Stock Significantly Overvalued? A Comprehensive Valuation Analysis\\nIs NVIDIA's Stoc...</td>\n",
       "    </tr>\n",
       "    <tr>\n",
       "      <th>22</th>\n",
       "      <td>Consistent profitability over the long term reduces the risk for investors. NVIDIA, with its pro...</td>\n",
       "    </tr>\n",
       "    <tr>\n",
       "      <th>23</th>\n",
       "      <td>margin of 17.37% ranks better than 76.5% of companies in the Semiconductors industry.</td>\n",
       "    </tr>\n",
       "    <tr>\n",
       "      <th>24</th>\n",
       "      <td>However, growth is a crucial factor in a company's valuation. NVIDIA's growth ranks worse than 5...</td>\n",
       "    </tr>\n",
       "    <tr>\n",
       "      <th>25</th>\n",
       "      <td>than 87.88% of companies in the industry.</td>\n",
       "    </tr>\n",
       "    <tr>\n",
       "      <th>26</th>\n",
       "      <td>ROIC vs WACC</td>\n",
       "    </tr>\n",
       "    <tr>\n",
       "      <th>27</th>\n",
       "      <td>Comparing a company's return on invested capital (ROIC) to its weighted average cost of capital ...</td>\n",
       "    </tr>\n",
       "    <tr>\n",
       "      <th>28</th>\n",
       "      <td>20.32 while its WACC was 16.74, suggesting that the company is creating value for its shareholders.</td>\n",
       "    </tr>\n",
       "    <tr>\n",
       "      <th>29</th>\n",
       "      <td>Is NVIDIA's Stock Significantly Overvalued? A Comprehensive Valuation Analysis\\nIs NVIDIA's Stoc...</td>\n",
       "    </tr>\n",
       "    <tr>\n",
       "      <th>30</th>\n",
       "      <td>In conclusion, NVIDIA (NASDAQ:NVDA) appears to be significantly overvalued. Despite its strong f...</td>\n",
       "    </tr>\n",
       "    <tr>\n",
       "      <th>31</th>\n",
       "      <td>Semiconductors industry. To learn more about NVIDIA stock, you can check out its 30-Year Financi...</td>\n",
       "    </tr>\n",
       "    <tr>\n",
       "      <th>32</th>\n",
       "      <td>To find out the high quality companies that may deliver above-average returns, please check out ...</td>\n",
       "    </tr>\n",
       "  </tbody>\n",
       "</table>\n",
       "</div>"
      ],
      "text/plain": [
       "                                                                                                 chunks\n",
       "0   The stock of NVIDIA Corp (NASDAQ:NVDA) experienced a daily loss of -3.56% and a 3-month gain of ...\n",
       "1   overvalued? This article aims to provide a detailed valuation analysis of NVIDIA, offering insig...\n",
       "2                                                                               comprehensive analysis.\n",
       "3   Company Overview\\nWarning! GuruFocus has detected 10 Warning Signs with NVDA. Click here to chec...\n",
       "4   NVIDIA Corp (NASDAQ:NVDA) is a leading designer of discrete graphics processing units that enhan...\n",
       "5   including PC gaming and data centers. In recent years, NVIDIA has broadened its focus from tradi...\n",
       "6   artificial intelligence and autonomous driving, leveraging the high-performance capabilities of ...\n",
       "7   Currently, NVIDIA's stock price stands at $418.01, significantly higher than the GF Value of $31...\n",
       "8                          steep. The following analysis aims to delve deeper into the company's value.\n",
       "9   Is NVIDIA's Stock Significantly Overvalued? A Comprehensive Valuation Analysis\\nIs NVIDIA's Stoc...\n",
       "10  The GF Value is a unique measure of the intrinsic value of a stock, calculated based on historic...\n",
       "11  stock price is significantly above the GF Value Line, it is overvalued, and its future return is...\n",
       "12                                                                                    likely be higher.\n",
       "13  According to GuruFocus Value calculation, NVIDIA (NASDAQ:NVDA) appears to be significantly overv...\n",
       "14                                                                          strengthen this assumption.\n",
       "15  Given that NVIDIA is significantly overvalued, the long-term return of its stock is likely to be...\n",
       "16  Is NVIDIA's Stock Significantly Overvalued? A Comprehensive Valuation Analysis\\nIs NVIDIA's Stoc...\n",
       "17                             Link: These companies may deliver higher future returns at reduced risk.\n",
       "18                                                                         Financial Strength of NVIDIA\n",
       "19  Examining the financial strength of a company is crucial before investing in its stock. Companie...\n",
       "20  1.27 is worse than 58.04% of companies in the Semiconductors industry. However, NVIDIA's overall...\n",
       "21  Is NVIDIA's Stock Significantly Overvalued? A Comprehensive Valuation Analysis\\nIs NVIDIA's Stoc...\n",
       "22  Consistent profitability over the long term reduces the risk for investors. NVIDIA, with its pro...\n",
       "23                margin of 17.37% ranks better than 76.5% of companies in the Semiconductors industry.\n",
       "24  However, growth is a crucial factor in a company's valuation. NVIDIA's growth ranks worse than 5...\n",
       "25                                                            than 87.88% of companies in the industry.\n",
       "26                                                                                         ROIC vs WACC\n",
       "27  Comparing a company's return on invested capital (ROIC) to its weighted average cost of capital ...\n",
       "28  20.32 while its WACC was 16.74, suggesting that the company is creating value for its shareholders.\n",
       "29  Is NVIDIA's Stock Significantly Overvalued? A Comprehensive Valuation Analysis\\nIs NVIDIA's Stoc...\n",
       "30  In conclusion, NVIDIA (NASDAQ:NVDA) appears to be significantly overvalued. Despite its strong f...\n",
       "31  Semiconductors industry. To learn more about NVIDIA stock, you can check out its 30-Year Financi...\n",
       "32  To find out the high quality companies that may deliver above-average returns, please check out ..."
      ]
     },
     "execution_count": 36,
     "metadata": {},
     "output_type": "execute_result"
    }
   ],
   "source": [
    "recusresiveNewsChunkdf\n"
   ]
  },
  {
   "cell_type": "code",
   "execution_count": 61,
   "id": "00e246b6-50cf-4709-9e0f-9b5bad8dbae9",
   "metadata": {},
   "outputs": [],
   "source": [
    "from sentence_transformers import SentenceTransformer"
   ]
  },
  {
   "cell_type": "code",
   "execution_count": 38,
   "id": "72e8d190-a66f-435a-8826-a79617a89d20",
   "metadata": {},
   "outputs": [],
   "source": [
    "encoder = SentenceTransformer(\"all-mpnet-base-v2\")"
   ]
  },
  {
   "cell_type": "code",
   "execution_count": 39,
   "id": "98a069a9-0f83-48d5-abb3-5978680d456a",
   "metadata": {},
   "outputs": [],
   "source": [
    "smallTextVector = encoder.encode(df.text)"
   ]
  },
  {
   "cell_type": "code",
   "execution_count": 40,
   "id": "11fe83b1-96a9-439e-baee-a35c64270a3a",
   "metadata": {},
   "outputs": [],
   "source": [
    "recusrsiveWebVector = encoder.encode(recursivedf.chunks)"
   ]
  },
  {
   "cell_type": "code",
   "execution_count": 41,
   "id": "88f262f2-1f22-417c-9979-16684f38bf58",
   "metadata": {},
   "outputs": [],
   "source": [
    "recusresiveNewsVector = encoder.encode(recusresiveNewsChunkdf.chunks)"
   ]
  },
  {
   "cell_type": "code",
   "execution_count": 42,
   "id": "74d45420-be57-426f-99f9-bf6a3fa0b28b",
   "metadata": {},
   "outputs": [
    {
     "data": {
      "text/plain": [
       "(8, 768)"
      ]
     },
     "execution_count": 42,
     "metadata": {},
     "output_type": "execute_result"
    }
   ],
   "source": [
    "smallTextVector.shape"
   ]
  },
  {
   "cell_type": "code",
   "execution_count": 43,
   "id": "fda0cb31-855e-42a5-97ed-dec843fabf2b",
   "metadata": {},
   "outputs": [
    {
     "data": {
      "text/plain": [
       "(173, 768)"
      ]
     },
     "execution_count": 43,
     "metadata": {},
     "output_type": "execute_result"
    }
   ],
   "source": [
    "recusrsiveWebVector.shape"
   ]
  },
  {
   "cell_type": "code",
   "execution_count": 44,
   "id": "01fd8be4-a1b2-4a68-a611-163add292db7",
   "metadata": {},
   "outputs": [
    {
     "data": {
      "text/plain": [
       "(33, 768)"
      ]
     },
     "execution_count": 44,
     "metadata": {},
     "output_type": "execute_result"
    }
   ],
   "source": [
    "recusresiveNewsVector.shape"
   ]
  },
  {
   "cell_type": "code",
   "execution_count": 45,
   "id": "ad267bd5-8f9c-4e0d-b277-80bd1ca05c9f",
   "metadata": {},
   "outputs": [
    {
     "name": "stdout",
     "output_type": "stream",
     "text": [
      "[[-0.00247389  0.03626722 -0.05290462 ... -0.09152354 -0.03970004\n",
      "  -0.04330488]\n",
      " [-0.03357265  0.00980517 -0.03250131 ... -0.0516547   0.02245886\n",
      "  -0.03156185]\n",
      " [-0.01865333 -0.04051305 -0.01235388 ...  0.00610588 -0.07179647\n",
      "   0.02773846]\n",
      " ...\n",
      " [-0.00066456  0.04252119 -0.05645505 ...  0.01315467 -0.03183556\n",
      "  -0.04357662]\n",
      " [-0.03317151  0.03252464 -0.02484838 ...  0.01174419  0.05747117\n",
      "   0.00571025]\n",
      " [-0.00166395  0.00413834 -0.04597078 ...  0.02008528  0.05656249\n",
      "  -0.00161596]] [[ 0.05350352 -0.00450694 -0.05467297 ... -0.00076376  0.00277102\n",
      "  -0.007641  ]\n",
      " [ 0.07070886 -0.00875992 -0.00748326 ... -0.03620667 -0.00557279\n",
      "  -0.05105139]\n",
      " [ 0.02993847 -0.00821549 -0.00783295 ... -0.03880923 -0.01625723\n",
      "   0.0211381 ]\n",
      " ...\n",
      " [ 0.04360152  0.05514823  0.00713624 ... -0.02375858  0.00829478\n",
      "  -0.04963159]\n",
      " [ 0.0388218   0.11617994  0.01356066 ... -0.03061189 -0.01694899\n",
      "   0.00511509]\n",
      " [ 0.06883118  0.148489    0.01831244 ... -0.0024004  -0.02785278\n",
      "  -0.00160979]]\n"
     ]
    }
   ],
   "source": [
    "print(smallTextVector ,recusrsiveWebVector)"
   ]
  },
  {
   "cell_type": "code",
   "execution_count": 46,
   "id": "d9722b13-937a-4f47-9212-836a42938f1a",
   "metadata": {},
   "outputs": [
    {
     "data": {
      "text/plain": [
       "768"
      ]
     },
     "execution_count": 46,
     "metadata": {},
     "output_type": "execute_result"
    }
   ],
   "source": [
    "smallTextdim = smallTextVector.shape[1]\n",
    "smallTextdim"
   ]
  },
  {
   "cell_type": "code",
   "execution_count": 47,
   "id": "97f3f312-4912-40a7-87bc-10d95cfad62f",
   "metadata": {},
   "outputs": [
    {
     "data": {
      "text/plain": [
       "768"
      ]
     },
     "execution_count": 47,
     "metadata": {},
     "output_type": "execute_result"
    }
   ],
   "source": [
    "recusrsiveWebDim = recusrsiveWebVector.shape[1]\n",
    "recusrsiveWebDim"
   ]
  },
  {
   "cell_type": "code",
   "execution_count": 48,
   "id": "a9e1ce76-b216-4c19-a218-cda5bed87940",
   "metadata": {},
   "outputs": [
    {
     "data": {
      "text/plain": [
       "768"
      ]
     },
     "execution_count": 48,
     "metadata": {},
     "output_type": "execute_result"
    }
   ],
   "source": [
    "recusresiveNewsDim = recusresiveNewsVector.shape[1]\n",
    "recusresiveNewsDim"
   ]
  },
  {
   "cell_type": "code",
   "execution_count": 49,
   "id": "1467d2ea-bd0f-4fa8-921e-cf2f66f9a2d9",
   "metadata": {},
   "outputs": [],
   "source": [
    "import faiss "
   ]
  },
  {
   "cell_type": "code",
   "execution_count": 50,
   "id": "4f745ffb-216d-44dd-8652-68eadd7381c5",
   "metadata": {},
   "outputs": [
    {
     "data": {
      "text/plain": [
       "<faiss.swigfaiss.IndexFlatL2; proxy of <Swig Object of type 'faiss::IndexFlatL2 *' at 0x15dd0a7f0> >"
      ]
     },
     "execution_count": 50,
     "metadata": {},
     "output_type": "execute_result"
    }
   ],
   "source": [
    "smallIndex = faiss.IndexFlatL2(smallTextdim)\n",
    "smallIndex"
   ]
  },
  {
   "cell_type": "code",
   "execution_count": 51,
   "id": "8b02e65a-6c73-4689-b659-5586e6e84239",
   "metadata": {},
   "outputs": [
    {
     "data": {
      "text/plain": [
       "<faiss.swigfaiss.IndexFlatL2; proxy of <Swig Object of type 'faiss::IndexFlatL2 *' at 0x305d5cf00> >"
      ]
     },
     "execution_count": 51,
     "metadata": {},
     "output_type": "execute_result"
    }
   ],
   "source": [
    "recursiveIndex = faiss.IndexFlatL2(recusrsiveWebDim)\n",
    "recursiveIndex"
   ]
  },
  {
   "cell_type": "code",
   "execution_count": 52,
   "id": "5acecde6-3823-4474-bffb-d52f4a99374a",
   "metadata": {},
   "outputs": [
    {
     "data": {
      "text/plain": [
       "<faiss.swigfaiss.IndexFlatL2; proxy of <Swig Object of type 'faiss::IndexFlatL2 *' at 0x305d5d350> >"
      ]
     },
     "execution_count": 52,
     "metadata": {},
     "output_type": "execute_result"
    }
   ],
   "source": [
    "recusresiveNewsIndex = faiss.IndexFlatL2(recusresiveNewsDim)\n",
    "recusresiveNewsIndex "
   ]
  },
  {
   "cell_type": "code",
   "execution_count": null,
   "id": "ce14fe22-dffd-43b1-9682-6f0d8f9b4a9f",
   "metadata": {},
   "outputs": [],
   "source": []
  },
  {
   "cell_type": "code",
   "execution_count": 53,
   "id": "b52c3f72-0c9e-4dcb-bbfe-9731cac0386c",
   "metadata": {},
   "outputs": [],
   "source": [
    "\n",
    "smallIndex.add(smallTextVector)"
   ]
  },
  {
   "cell_type": "code",
   "execution_count": 54,
   "id": "04fd8424-1c61-4118-b55b-0fe34a52d76b",
   "metadata": {},
   "outputs": [],
   "source": [
    "recursiveIndex.add(recusrsiveWebVector)"
   ]
  },
  {
   "cell_type": "code",
   "execution_count": 55,
   "id": "00f8307a-535e-4cd1-8048-9d6304249c2e",
   "metadata": {},
   "outputs": [],
   "source": [
    "recusresiveNewsIndex.add(recusresiveNewsVector)"
   ]
  },
  {
   "cell_type": "code",
   "execution_count": 56,
   "id": "0ad2f5f6-080a-4f46-b571-6b32c1a8ac7f",
   "metadata": {},
   "outputs": [],
   "source": [
    "search_query = \"let me know about stocks\""
   ]
  },
  {
   "cell_type": "code",
   "execution_count": 57,
   "id": "35bab28a-d0ea-4c33-a9c6-04ad9f455ff1",
   "metadata": {},
   "outputs": [],
   "source": [
    "svec = encoder.encode(search_query)"
   ]
  },
  {
   "cell_type": "code",
   "execution_count": 58,
   "id": "4abaff8e-513d-4825-81b3-81f3000dca81",
   "metadata": {},
   "outputs": [
    {
     "data": {
      "text/plain": [
       "(1, 768)"
      ]
     },
     "execution_count": 58,
     "metadata": {},
     "output_type": "execute_result"
    }
   ],
   "source": [
    "svec.shape\n",
    "\n",
    "import numpy as np \n",
    "svec = np.array(svec).reshape(1,-1)\n",
    "svec.shape"
   ]
  },
  {
   "cell_type": "code",
   "execution_count": 66,
   "id": "403c6c4b-575b-41df-8182-e2111d97f35e",
   "metadata": {},
   "outputs": [
    {
     "data": {
      "text/html": [
       "<div>\n",
       "<style scoped>\n",
       "    .dataframe tbody tr th:only-of-type {\n",
       "        vertical-align: middle;\n",
       "    }\n",
       "\n",
       "    .dataframe tbody tr th {\n",
       "        vertical-align: top;\n",
       "    }\n",
       "\n",
       "    .dataframe thead th {\n",
       "        text-align: right;\n",
       "    }\n",
       "</style>\n",
       "<table border=\"1\" class=\"dataframe\">\n",
       "  <thead>\n",
       "    <tr style=\"text-align: right;\">\n",
       "      <th></th>\n",
       "      <th>chunks</th>\n",
       "    </tr>\n",
       "  </thead>\n",
       "  <tbody>\n",
       "    <tr>\n",
       "      <th>28</th>\n",
       "      <td>20.32 while its WACC was 16.74, suggesting that the company is creating value for its shareholders.</td>\n",
       "    </tr>\n",
       "    <tr>\n",
       "      <th>7</th>\n",
       "      <td>Currently, NVIDIA's stock price stands at $418.01, significantly higher than the GF Value of $31...</td>\n",
       "    </tr>\n",
       "    <tr>\n",
       "      <th>13</th>\n",
       "      <td>According to GuruFocus Value calculation, NVIDIA (NASDAQ:NVDA) appears to be significantly overv...</td>\n",
       "    </tr>\n",
       "    <tr>\n",
       "      <th>9</th>\n",
       "      <td>Is NVIDIA's Stock Significantly Overvalued? A Comprehensive Valuation Analysis\\nIs NVIDIA's Stoc...</td>\n",
       "    </tr>\n",
       "    <tr>\n",
       "      <th>0</th>\n",
       "      <td>The stock of NVIDIA Corp (NASDAQ:NVDA) experienced a daily loss of -3.56% and a 3-month gain of ...</td>\n",
       "    </tr>\n",
       "    <tr>\n",
       "      <th>16</th>\n",
       "      <td>Is NVIDIA's Stock Significantly Overvalued? A Comprehensive Valuation Analysis\\nIs NVIDIA's Stoc...</td>\n",
       "    </tr>\n",
       "    <tr>\n",
       "      <th>29</th>\n",
       "      <td>Is NVIDIA's Stock Significantly Overvalued? A Comprehensive Valuation Analysis\\nIs NVIDIA's Stoc...</td>\n",
       "    </tr>\n",
       "    <tr>\n",
       "      <th>21</th>\n",
       "      <td>Is NVIDIA's Stock Significantly Overvalued? A Comprehensive Valuation Analysis\\nIs NVIDIA's Stoc...</td>\n",
       "    </tr>\n",
       "    <tr>\n",
       "      <th>20</th>\n",
       "      <td>1.27 is worse than 58.04% of companies in the Semiconductors industry. However, NVIDIA's overall...</td>\n",
       "    </tr>\n",
       "    <tr>\n",
       "      <th>19</th>\n",
       "      <td>Examining the financial strength of a company is crucial before investing in its stock. Companie...</td>\n",
       "    </tr>\n",
       "  </tbody>\n",
       "</table>\n",
       "</div>"
      ],
      "text/plain": [
       "                                                                                                 chunks\n",
       "28  20.32 while its WACC was 16.74, suggesting that the company is creating value for its shareholders.\n",
       "7   Currently, NVIDIA's stock price stands at $418.01, significantly higher than the GF Value of $31...\n",
       "13  According to GuruFocus Value calculation, NVIDIA (NASDAQ:NVDA) appears to be significantly overv...\n",
       "9   Is NVIDIA's Stock Significantly Overvalued? A Comprehensive Valuation Analysis\\nIs NVIDIA's Stoc...\n",
       "0   The stock of NVIDIA Corp (NASDAQ:NVDA) experienced a daily loss of -3.56% and a 3-month gain of ...\n",
       "16  Is NVIDIA's Stock Significantly Overvalued? A Comprehensive Valuation Analysis\\nIs NVIDIA's Stoc...\n",
       "29  Is NVIDIA's Stock Significantly Overvalued? A Comprehensive Valuation Analysis\\nIs NVIDIA's Stoc...\n",
       "21  Is NVIDIA's Stock Significantly Overvalued? A Comprehensive Valuation Analysis\\nIs NVIDIA's Stoc...\n",
       "20  1.27 is worse than 58.04% of companies in the Semiconductors industry. However, NVIDIA's overall...\n",
       "19  Examining the financial strength of a company is crucial before investing in its stock. Companie..."
      ]
     },
     "execution_count": 66,
     "metadata": {},
     "output_type": "execute_result"
    }
   ],
   "source": [
    "\n",
    "\n",
    "import pandas as pd\n",
    "\n",
    "distances, I = recusresiveNewsIndex.search(svec, k=10)\n",
    "row_indices = I.tolist()[0]\n",
    "# print(recusresiveNewsChunkdf)\n",
    "# Convert list to DataFrame\n",
    "recusresiveNewsChunkdf.loc[row_indices]"
   ]
  },
  {
   "cell_type": "code",
   "execution_count": 63,
   "id": "8966a784-0d63-479e-9e27-a4171db4baee",
   "metadata": {},
   "outputs": [],
   "source": [
    "\n",
    "\n",
    "import pandas as pd\n",
    "\n",
    "distances, I = recursiveIndex.search(svec, k=4)\n",
    "row_indices = I.tolist()[0]\n",
    "\n",
    "# Convert list to DataFrame\n",
    "recursivedf.loc[row_indices]"
   ]
  },
  {
   "cell_type": "code",
   "execution_count": 67,
   "id": "85817832-6a20-4981-aa12-0fd49a271bd4",
   "metadata": {},
   "outputs": [
    {
     "data": {
      "text/html": [
       "<div>\n",
       "<style scoped>\n",
       "    .dataframe tbody tr th:only-of-type {\n",
       "        vertical-align: middle;\n",
       "    }\n",
       "\n",
       "    .dataframe tbody tr th {\n",
       "        vertical-align: top;\n",
       "    }\n",
       "\n",
       "    .dataframe thead th {\n",
       "        text-align: right;\n",
       "    }\n",
       "</style>\n",
       "<table border=\"1\" class=\"dataframe\">\n",
       "  <thead>\n",
       "    <tr style=\"text-align: right;\">\n",
       "      <th></th>\n",
       "      <th>chunks</th>\n",
       "    </tr>\n",
       "  </thead>\n",
       "  <tbody>\n",
       "    <tr>\n",
       "      <th>75</th>\n",
       "      <td>collected the publicly available data. FareChase filed an appeal in March 2003. By June, FareCha...</td>\n",
       "    </tr>\n",
       "    <tr>\n",
       "      <th>81</th>\n",
       "      <td>company Yahoo!, and Outtask was purchased by travel expense company Concur.[14] In 2012, a start...</td>\n",
       "    </tr>\n",
       "  </tbody>\n",
       "</table>\n",
       "</div>"
      ],
      "text/plain": [
       "                                                                                                 chunks\n",
       "75  collected the publicly available data. FareChase filed an appeal in March 2003. By June, FareCha...\n",
       "81  company Yahoo!, and Outtask was purchased by travel expense company Concur.[14] In 2012, a start..."
      ]
     },
     "execution_count": 67,
     "metadata": {},
     "output_type": "execute_result"
    }
   ],
   "source": [
    "distances, I = recursiveIndex.search(svec, k=2)\n",
    "row_indices = I.tolist()[0]\n",
    "recursivedf.loc[row_indices]"
   ]
  },
  {
   "cell_type": "code",
   "execution_count": null,
   "id": "13fc9b23-9787-4ef5-8a0e-af17517e5e6b",
   "metadata": {},
   "outputs": [],
   "source": []
  },
  {
   "cell_type": "code",
   "execution_count": null,
   "id": "3108d506-f619-4b56-a16d-5beab77075f8",
   "metadata": {},
   "outputs": [],
   "source": []
  },
  {
   "cell_type": "code",
   "execution_count": null,
   "id": "80d3936f-9768-4044-b3a7-087767e11707",
   "metadata": {},
   "outputs": [],
   "source": []
  }
 ],
 "metadata": {
  "kernelspec": {
   "display_name": "Python 3 (ipykernel)",
   "language": "python",
   "name": "python3"
  },
  "language_info": {
   "codemirror_mode": {
    "name": "ipython",
    "version": 3
   },
   "file_extension": ".py",
   "mimetype": "text/x-python",
   "name": "python",
   "nbconvert_exporter": "python",
   "pygments_lexer": "ipython3",
   "version": "3.13.5"
  }
 },
 "nbformat": 4,
 "nbformat_minor": 5
}

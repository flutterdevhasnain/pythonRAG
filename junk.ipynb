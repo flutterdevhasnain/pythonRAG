{
 "cells": [
  {
   "cell_type": "code",
   "execution_count": 1,
   "id": "7f95fd97-ed24-4e35-9926-5e73143b794b",
   "metadata": {},
   "outputs": [],
   "source": [
    "from langchain_community.document_loaders import UnstructuredURLLoader\n",
    "import time\n",
    "import requests\n",
    "from requests.adapters import HTTPAdapter\n",
    "from urllib3.util.retry import Retry"
   ]
  },
  {
   "cell_type": "code",
   "execution_count": 2,
   "id": "3a97dec3-e4db-4436-a3d8-c2d9f3b95694",
   "metadata": {},
   "outputs": [],
   "source": [
    "urls = [\n",
    "\"https://www.binance.com/en/square/post/08-22-2025-whale-sells-ethereum-for-significant-profit-in-august-28652349496146\",\"https://www.binance.com/en/square/post/08-22-2025-hemi-blockchain-network-reveals-token-economics-28641299655561\"]"
   ]
  },
  {
   "cell_type": "code",
   "execution_count": 3,
   "id": "33f001f2-f91f-47d2-b6bd-333fece9d07c",
   "metadata": {},
   "outputs": [],
   "source": [
    "# Method 1: Basic retry with delays\n",
    "def load_with_retry(urls, max_retries=3, delay=2):\n",
    "    \"\"\"Load URLs with retry logic and delays\"\"\"\n",
    "    successful_docs = []\n",
    "    failed_urls = []\n",
    "    \n",
    "    for url in urls:\n",
    "        for attempt in range(max_retries):\n",
    "            try:\n",
    "                print(f\"Attempting to load: {url} (attempt {attempt + 1})\")\n",
    "                loader = UnstructuredURLLoader(urls=[url])\n",
    "                docs = loader.load()\n",
    "                successful_docs.extend(docs)\n",
    "                print(f\"✓ Successfully loaded: {url}\")\n",
    "                break\n",
    "            except Exception as e:\n",
    "                print(f\"✗ Failed attempt {attempt + 1} for {url}: {str(e)}\")\n",
    "                if attempt < max_retries - 1:\n",
    "                    time.sleep(delay * (attempt + 1))  # Exponential backoff\n",
    "                else:\n",
    "                    failed_urls.append(url)\n",
    "    \n",
    "    return successful_docs, failed_urls"
   ]
  },
  {
   "cell_type": "code",
   "execution_count": 4,
   "id": "d3fcad2b-8b7a-4a81-acb2-5cc8fc322253",
   "metadata": {},
   "outputs": [],
   "source": [
    "# Method 2: Custom session with headers and retry strategy\n",
    "def load_with_custom_session(urls):\n",
    "    \"\"\"Load URLs with custom session configuration\"\"\"\n",
    "    \n",
    "    # Create a custom session with retry strategy\n",
    "    session = requests.Session()\n",
    "    \n",
    "    # Add retry strategy\n",
    "    retry_strategy = Retry(\n",
    "        total=3,\n",
    "        backoff_factor=1,\n",
    "        status_forcelist=[429, 500, 502, 503, 504],\n",
    "    )\n",
    "    \n",
    "    adapter = HTTPAdapter(max_retries=retry_strategy)\n",
    "    session.mount(\"http://\", adapter)\n",
    "    session.mount(\"https://\", adapter)\n",
    "    \n",
    "    # Add headers to mimic a browser\n",
    "    session.headers.update({\n",
    "        'User-Agent': 'Mozilla/5.0 (Windows NT 10.0; Win64; x64) AppleWebKit/537.36 (KHTML, like Gecko) Chrome/91.0.4472.124 Safari/537.36',\n",
    "        'Accept': 'text/html,application/xhtml+xml,application/xml;q=0.9,*/*;q=0.8',\n",
    "        'Accept-Language': 'en-US,en;q=0.5',\n",
    "        'Accept-Encoding': 'gzip, deflate',\n",
    "        'Connection': 'keep-alive',\n",
    "        'Upgrade-Insecure-Requests': '1',\n",
    "    })\n",
    "    \n",
    "    successful_docs = []\n",
    "    failed_urls = []\n",
    "    \n",
    "    for url in urls:\n",
    "        try:\n",
    "            print(f\"Loading with custom session: {url}\")\n",
    "            \n",
    "            # First, test the URL with requests\n",
    "            response = session.get(url, timeout=30)\n",
    "            response.raise_for_status()\n",
    "            \n",
    "            # If successful, use UnstructuredURLLoader\n",
    "            loader = UnstructuredURLLoader(urls=[url])\n",
    "            docs = loader.load()\n",
    "            successful_docs.extend(docs)\n",
    "            print(f\"✓ Successfully loaded: {url}\")\n",
    "            \n",
    "        except Exception as e:\n",
    "            print(f\"✗ Failed to load {url}: {str(e)}\")\n",
    "            failed_urls.append(url)\n",
    "            \n",
    "        time.sleep(1)  # Be respectful to the server\n",
    "    \n",
    "    return successful_docs, failed_urls\n"
   ]
  },
  {
   "cell_type": "code",
   "execution_count": 5,
   "id": "b9ae93fa-0660-4671-84e4-c1265828911d",
   "metadata": {},
   "outputs": [],
   "source": [
    "# Method 3: Individual URL processing with detailed error handling\n",
    "def load_urls_individually(urls):\n",
    "    \"\"\"Process each URL individually with detailed error reporting\"\"\"\n",
    "    results = {\n",
    "        'successful': [],\n",
    "        'failed': [],\n",
    "        'errors': {}\n",
    "    }\n",
    "    \n",
    "    for i, url in enumerate(urls, 1):\n",
    "        print(f\"\\n--- Processing URL {i}/{len(urls)} ---\")\n",
    "        print(f\"URL: {url}\")\n",
    "        \n",
    "        try:\n",
    "            # Test connectivity first\n",
    "            response = requests.head(url, timeout=10, allow_redirects=True)\n",
    "            print(f\"Status Code: {response.status_code}\")\n",
    "            \n",
    "            if response.status_code == 200:\n",
    "                loader = UnstructuredURLLoader(urls=[url])\n",
    "                docs = loader.load()\n",
    "                results['successful'].extend(docs)\n",
    "                print(f\"✓ Content loaded successfully\")\n",
    "                print(f\"  Document length: {len(docs[0].page_content) if docs else 0} characters\")\n",
    "            else:\n",
    "                results['failed'].append(url)\n",
    "                results['errors'][url] = f\"HTTP {response.status_code}\"\n",
    "                \n",
    "        except requests.exceptions.ConnectionError as e:\n",
    "            results['failed'].append(url)\n",
    "            results['errors'][url] = f\"Connection Error: {str(e)}\"\n",
    "            print(f\"✗ Connection Error: {str(e)}\")\n",
    "            \n",
    "        except requests.exceptions.Timeout as e:\n",
    "            results['failed'].append(url)\n",
    "            results['errors'][url] = f\"Timeout Error: {str(e)}\"\n",
    "            print(f\"✗ Timeout Error: {str(e)}\")\n",
    "            \n",
    "        except Exception as e:\n",
    "            results['failed'].append(url)\n",
    "            results['errors'][url] = f\"General Error: {str(e)}\"\n",
    "            print(f\"✗ Error: {str(e)}\")\n",
    "    \n",
    "    return results\n"
   ]
  },
  {
   "cell_type": "code",
   "execution_count": 6,
   "id": "6a90b307-86fe-43ce-8db9-b723cea7b098",
   "metadata": {},
   "outputs": [
    {
     "name": "stdout",
     "output_type": "stream",
     "text": [
      "=== Method 1: Basic Retry ===\n",
      "Attempting to load: https://www.binance.com/en/square/post/08-22-2025-whale-sells-ethereum-for-significant-profit-in-august-28652349496146 (attempt 1)\n",
      "✓ Successfully loaded: https://www.binance.com/en/square/post/08-22-2025-whale-sells-ethereum-for-significant-profit-in-august-28652349496146\n",
      "Attempting to load: https://www.binance.com/en/square/post/08-22-2025-hemi-blockchain-network-reveals-token-economics-28641299655561 (attempt 1)\n",
      "✓ Successfully loaded: https://www.binance.com/en/square/post/08-22-2025-hemi-blockchain-network-reveals-token-economics-28641299655561\n",
      "\n",
      "Successfully loaded: 2 documents\n",
      "Failed URLs: 0\n"
     ]
    }
   ],
   "source": [
    "print(\"=== Method 1: Basic Retry ===\")\n",
    "successful_docs, failed_urls = load_with_retry(urls)\n",
    "print(f\"\\nSuccessfully loaded: {len(successful_docs)} documents\")\n",
    "print(f\"Failed URLs: {len(failed_urls)}\")"
   ]
  },
  {
   "cell_type": "code",
   "execution_count": 7,
   "id": "761eb6d0-2c98-4f5d-bcc6-746049dbaeeb",
   "metadata": {},
   "outputs": [
    {
     "name": "stdout",
     "output_type": "stream",
     "text": [
      "\n",
      "=== Method 2: Custom Session ===\n",
      "Loading with custom session: https://www.binance.com/en/square/post/08-22-2025-whale-sells-ethereum-for-significant-profit-in-august-28652349496146\n",
      "✓ Successfully loaded: https://www.binance.com/en/square/post/08-22-2025-whale-sells-ethereum-for-significant-profit-in-august-28652349496146\n",
      "Loading with custom session: https://www.binance.com/en/square/post/08-22-2025-hemi-blockchain-network-reveals-token-economics-28641299655561\n",
      "✓ Successfully loaded: https://www.binance.com/en/square/post/08-22-2025-hemi-blockchain-network-reveals-token-economics-28641299655561\n",
      "\n",
      "Successfully loaded: 2 documents\n",
      "Failed URLs: 0\n"
     ]
    }
   ],
   "source": [
    "print(\"\\n=== Method 2: Custom Session ===\")\n",
    "successful_docs_2, failed_urls_2 = load_with_custom_session(urls)\n",
    "print(f\"\\nSuccessfully loaded: {len(successful_docs_2)} documents\")\n",
    "print(f\"Failed URLs: {len(failed_urls_2)}\")"
   ]
  },
  {
   "cell_type": "code",
   "execution_count": 8,
   "id": "74c4d813-c9fe-46b9-b10c-82107b4e2eba",
   "metadata": {},
   "outputs": [
    {
     "name": "stdout",
     "output_type": "stream",
     "text": [
      "\n",
      "=== Method 3: Individual Processing ===\n",
      "\n",
      "--- Processing URL 1/2 ---\n",
      "URL: https://www.binance.com/en/square/post/08-22-2025-whale-sells-ethereum-for-significant-profit-in-august-28652349496146\n",
      "Status Code: 202\n",
      "\n",
      "--- Processing URL 2/2 ---\n",
      "URL: https://www.binance.com/en/square/post/08-22-2025-hemi-blockchain-network-reveals-token-economics-28641299655561\n",
      "Status Code: 202\n",
      "\n",
      "Successful: 0 documents\n",
      "Failed: 2 URLs\n",
      "  https://www.binance.com/en/square/post/08-22-2025-whale-sells-ethereum-for-significant-profit-in-august-28652349496146: HTTP 202\n",
      "  https://www.binance.com/en/square/post/08-22-2025-hemi-blockchain-network-reveals-token-economics-28641299655561: HTTP 202\n",
      "\n",
      "=== Sample Content ===\n",
      "First document preview:\n",
      "\n"
     ]
    }
   ],
   "source": [
    "print(\"\\n=== Method 3: Individual Processing ===\")\n",
    "results = load_urls_individually(urls)\n",
    "print(f\"\\nSuccessful: {len(results['successful'])} documents\")\n",
    "print(f\"Failed: {len(results['failed'])} URLs\")\n",
    "for url, error in results['errors'].items():\n",
    "    print(f\"  {url}: {error}\")\n",
    "\n",
    "# If you got some successful documents, you can work with them:\n",
    "if successful_docs:\n",
    "    print(f\"\\n=== Sample Content ===\")\n",
    "    print(f\"First document preview:\")\n",
    "    print(successful_docs[0].page_content[:500] + \"...\" if len(successful_docs[0].page_content) > 500 else successful_docs[0].page_content)"
   ]
  },
  {
   "cell_type": "code",
   "execution_count": null,
   "id": "b2bfd2be-5c50-48cb-be5e-85e758d954c4",
   "metadata": {},
   "outputs": [],
   "source": []
  }
 ],
 "metadata": {
  "kernelspec": {
   "display_name": "Python 3 (ipykernel)",
   "language": "python",
   "name": "python3"
  },
  "language_info": {
   "codemirror_mode": {
    "name": "ipython",
    "version": 3
   },
   "file_extension": ".py",
   "mimetype": "text/x-python",
   "name": "python",
   "nbconvert_exporter": "python",
   "pygments_lexer": "ipython3",
   "version": "3.13.5"
  }
 },
 "nbformat": 4,
 "nbformat_minor": 5
}
